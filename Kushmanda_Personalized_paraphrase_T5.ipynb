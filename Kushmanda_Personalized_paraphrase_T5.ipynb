{
  "nbformat": 4,
  "nbformat_minor": 0,
  "metadata": {
    "colab": {
      "provenance": [],
      "gpuType": "T4",
      "include_colab_link": true
    },
    "kernelspec": {
      "name": "python3",
      "display_name": "Python 3"
    },
    "language_info": {
      "name": "python"
    },
    "accelerator": "GPU",
    "widgets": {
      "application/vnd.jupyter.widget-state+json": {
        "84e9415cd232482fa5b787d3a58ae0b4": {
          "model_module": "@jupyter-widgets/controls",
          "model_name": "HBoxModel",
          "model_module_version": "1.5.0",
          "state": {
            "_dom_classes": [],
            "_model_module": "@jupyter-widgets/controls",
            "_model_module_version": "1.5.0",
            "_model_name": "HBoxModel",
            "_view_count": null,
            "_view_module": "@jupyter-widgets/controls",
            "_view_module_version": "1.5.0",
            "_view_name": "HBoxView",
            "box_style": "",
            "children": [
              "IPY_MODEL_f39f1dccdc98490fb7f7354cba057c59",
              "IPY_MODEL_22a68fa520d14089904c8a8718faf8d4",
              "IPY_MODEL_d210ff91563d4358a7f7810cb447bc84"
            ],
            "layout": "IPY_MODEL_29b0f060a8d44bd19ef2b3dd9fb941f0"
          }
        },
        "f39f1dccdc98490fb7f7354cba057c59": {
          "model_module": "@jupyter-widgets/controls",
          "model_name": "HTMLModel",
          "model_module_version": "1.5.0",
          "state": {
            "_dom_classes": [],
            "_model_module": "@jupyter-widgets/controls",
            "_model_module_version": "1.5.0",
            "_model_name": "HTMLModel",
            "_view_count": null,
            "_view_module": "@jupyter-widgets/controls",
            "_view_module_version": "1.5.0",
            "_view_name": "HTMLView",
            "description": "",
            "description_tooltip": null,
            "layout": "IPY_MODEL_6cac1d9636d44278b7dad7c140655142",
            "placeholder": "​",
            "style": "IPY_MODEL_4db55870c6da4e7e91d07537521644d2",
            "value": "tokenizer_config.json: 100%"
          }
        },
        "22a68fa520d14089904c8a8718faf8d4": {
          "model_module": "@jupyter-widgets/controls",
          "model_name": "FloatProgressModel",
          "model_module_version": "1.5.0",
          "state": {
            "_dom_classes": [],
            "_model_module": "@jupyter-widgets/controls",
            "_model_module_version": "1.5.0",
            "_model_name": "FloatProgressModel",
            "_view_count": null,
            "_view_module": "@jupyter-widgets/controls",
            "_view_module_version": "1.5.0",
            "_view_name": "ProgressView",
            "bar_style": "success",
            "description": "",
            "description_tooltip": null,
            "layout": "IPY_MODEL_1ecbe72297ad4adbbbf4158bed5bbd7e",
            "max": 2319,
            "min": 0,
            "orientation": "horizontal",
            "style": "IPY_MODEL_a9a2f9d253ce485798adaf94c201114f",
            "value": 2319
          }
        },
        "d210ff91563d4358a7f7810cb447bc84": {
          "model_module": "@jupyter-widgets/controls",
          "model_name": "HTMLModel",
          "model_module_version": "1.5.0",
          "state": {
            "_dom_classes": [],
            "_model_module": "@jupyter-widgets/controls",
            "_model_module_version": "1.5.0",
            "_model_name": "HTMLModel",
            "_view_count": null,
            "_view_module": "@jupyter-widgets/controls",
            "_view_module_version": "1.5.0",
            "_view_name": "HTMLView",
            "description": "",
            "description_tooltip": null,
            "layout": "IPY_MODEL_894aa91421d546eb84e2d5999f2e245d",
            "placeholder": "​",
            "style": "IPY_MODEL_7a08dc0d72cf4d2fb91722a013839f97",
            "value": " 2.32k/2.32k [00:00&lt;00:00, 110kB/s]"
          }
        },
        "29b0f060a8d44bd19ef2b3dd9fb941f0": {
          "model_module": "@jupyter-widgets/base",
          "model_name": "LayoutModel",
          "model_module_version": "1.2.0",
          "state": {
            "_model_module": "@jupyter-widgets/base",
            "_model_module_version": "1.2.0",
            "_model_name": "LayoutModel",
            "_view_count": null,
            "_view_module": "@jupyter-widgets/base",
            "_view_module_version": "1.2.0",
            "_view_name": "LayoutView",
            "align_content": null,
            "align_items": null,
            "align_self": null,
            "border": null,
            "bottom": null,
            "display": null,
            "flex": null,
            "flex_flow": null,
            "grid_area": null,
            "grid_auto_columns": null,
            "grid_auto_flow": null,
            "grid_auto_rows": null,
            "grid_column": null,
            "grid_gap": null,
            "grid_row": null,
            "grid_template_areas": null,
            "grid_template_columns": null,
            "grid_template_rows": null,
            "height": null,
            "justify_content": null,
            "justify_items": null,
            "left": null,
            "margin": null,
            "max_height": null,
            "max_width": null,
            "min_height": null,
            "min_width": null,
            "object_fit": null,
            "object_position": null,
            "order": null,
            "overflow": null,
            "overflow_x": null,
            "overflow_y": null,
            "padding": null,
            "right": null,
            "top": null,
            "visibility": null,
            "width": null
          }
        },
        "6cac1d9636d44278b7dad7c140655142": {
          "model_module": "@jupyter-widgets/base",
          "model_name": "LayoutModel",
          "model_module_version": "1.2.0",
          "state": {
            "_model_module": "@jupyter-widgets/base",
            "_model_module_version": "1.2.0",
            "_model_name": "LayoutModel",
            "_view_count": null,
            "_view_module": "@jupyter-widgets/base",
            "_view_module_version": "1.2.0",
            "_view_name": "LayoutView",
            "align_content": null,
            "align_items": null,
            "align_self": null,
            "border": null,
            "bottom": null,
            "display": null,
            "flex": null,
            "flex_flow": null,
            "grid_area": null,
            "grid_auto_columns": null,
            "grid_auto_flow": null,
            "grid_auto_rows": null,
            "grid_column": null,
            "grid_gap": null,
            "grid_row": null,
            "grid_template_areas": null,
            "grid_template_columns": null,
            "grid_template_rows": null,
            "height": null,
            "justify_content": null,
            "justify_items": null,
            "left": null,
            "margin": null,
            "max_height": null,
            "max_width": null,
            "min_height": null,
            "min_width": null,
            "object_fit": null,
            "object_position": null,
            "order": null,
            "overflow": null,
            "overflow_x": null,
            "overflow_y": null,
            "padding": null,
            "right": null,
            "top": null,
            "visibility": null,
            "width": null
          }
        },
        "4db55870c6da4e7e91d07537521644d2": {
          "model_module": "@jupyter-widgets/controls",
          "model_name": "DescriptionStyleModel",
          "model_module_version": "1.5.0",
          "state": {
            "_model_module": "@jupyter-widgets/controls",
            "_model_module_version": "1.5.0",
            "_model_name": "DescriptionStyleModel",
            "_view_count": null,
            "_view_module": "@jupyter-widgets/base",
            "_view_module_version": "1.2.0",
            "_view_name": "StyleView",
            "description_width": ""
          }
        },
        "1ecbe72297ad4adbbbf4158bed5bbd7e": {
          "model_module": "@jupyter-widgets/base",
          "model_name": "LayoutModel",
          "model_module_version": "1.2.0",
          "state": {
            "_model_module": "@jupyter-widgets/base",
            "_model_module_version": "1.2.0",
            "_model_name": "LayoutModel",
            "_view_count": null,
            "_view_module": "@jupyter-widgets/base",
            "_view_module_version": "1.2.0",
            "_view_name": "LayoutView",
            "align_content": null,
            "align_items": null,
            "align_self": null,
            "border": null,
            "bottom": null,
            "display": null,
            "flex": null,
            "flex_flow": null,
            "grid_area": null,
            "grid_auto_columns": null,
            "grid_auto_flow": null,
            "grid_auto_rows": null,
            "grid_column": null,
            "grid_gap": null,
            "grid_row": null,
            "grid_template_areas": null,
            "grid_template_columns": null,
            "grid_template_rows": null,
            "height": null,
            "justify_content": null,
            "justify_items": null,
            "left": null,
            "margin": null,
            "max_height": null,
            "max_width": null,
            "min_height": null,
            "min_width": null,
            "object_fit": null,
            "object_position": null,
            "order": null,
            "overflow": null,
            "overflow_x": null,
            "overflow_y": null,
            "padding": null,
            "right": null,
            "top": null,
            "visibility": null,
            "width": null
          }
        },
        "a9a2f9d253ce485798adaf94c201114f": {
          "model_module": "@jupyter-widgets/controls",
          "model_name": "ProgressStyleModel",
          "model_module_version": "1.5.0",
          "state": {
            "_model_module": "@jupyter-widgets/controls",
            "_model_module_version": "1.5.0",
            "_model_name": "ProgressStyleModel",
            "_view_count": null,
            "_view_module": "@jupyter-widgets/base",
            "_view_module_version": "1.2.0",
            "_view_name": "StyleView",
            "bar_color": null,
            "description_width": ""
          }
        },
        "894aa91421d546eb84e2d5999f2e245d": {
          "model_module": "@jupyter-widgets/base",
          "model_name": "LayoutModel",
          "model_module_version": "1.2.0",
          "state": {
            "_model_module": "@jupyter-widgets/base",
            "_model_module_version": "1.2.0",
            "_model_name": "LayoutModel",
            "_view_count": null,
            "_view_module": "@jupyter-widgets/base",
            "_view_module_version": "1.2.0",
            "_view_name": "LayoutView",
            "align_content": null,
            "align_items": null,
            "align_self": null,
            "border": null,
            "bottom": null,
            "display": null,
            "flex": null,
            "flex_flow": null,
            "grid_area": null,
            "grid_auto_columns": null,
            "grid_auto_flow": null,
            "grid_auto_rows": null,
            "grid_column": null,
            "grid_gap": null,
            "grid_row": null,
            "grid_template_areas": null,
            "grid_template_columns": null,
            "grid_template_rows": null,
            "height": null,
            "justify_content": null,
            "justify_items": null,
            "left": null,
            "margin": null,
            "max_height": null,
            "max_width": null,
            "min_height": null,
            "min_width": null,
            "object_fit": null,
            "object_position": null,
            "order": null,
            "overflow": null,
            "overflow_x": null,
            "overflow_y": null,
            "padding": null,
            "right": null,
            "top": null,
            "visibility": null,
            "width": null
          }
        },
        "7a08dc0d72cf4d2fb91722a013839f97": {
          "model_module": "@jupyter-widgets/controls",
          "model_name": "DescriptionStyleModel",
          "model_module_version": "1.5.0",
          "state": {
            "_model_module": "@jupyter-widgets/controls",
            "_model_module_version": "1.5.0",
            "_model_name": "DescriptionStyleModel",
            "_view_count": null,
            "_view_module": "@jupyter-widgets/base",
            "_view_module_version": "1.2.0",
            "_view_name": "StyleView",
            "description_width": ""
          }
        },
        "f6dd378c49a44e548b8f74a0479d1a5d": {
          "model_module": "@jupyter-widgets/controls",
          "model_name": "HBoxModel",
          "model_module_version": "1.5.0",
          "state": {
            "_dom_classes": [],
            "_model_module": "@jupyter-widgets/controls",
            "_model_module_version": "1.5.0",
            "_model_name": "HBoxModel",
            "_view_count": null,
            "_view_module": "@jupyter-widgets/controls",
            "_view_module_version": "1.5.0",
            "_view_name": "HBoxView",
            "box_style": "",
            "children": [
              "IPY_MODEL_8ed0abef3384432e9b384fbcb37648b4",
              "IPY_MODEL_a2906b02216041b4beeaee4d4622c13d",
              "IPY_MODEL_f4a9894f2cc74b0aa547a2b714a5a8f4"
            ],
            "layout": "IPY_MODEL_54968a993092414d8fe589daf04438bb"
          }
        },
        "8ed0abef3384432e9b384fbcb37648b4": {
          "model_module": "@jupyter-widgets/controls",
          "model_name": "HTMLModel",
          "model_module_version": "1.5.0",
          "state": {
            "_dom_classes": [],
            "_model_module": "@jupyter-widgets/controls",
            "_model_module_version": "1.5.0",
            "_model_name": "HTMLModel",
            "_view_count": null,
            "_view_module": "@jupyter-widgets/controls",
            "_view_module_version": "1.5.0",
            "_view_name": "HTMLView",
            "description": "",
            "description_tooltip": null,
            "layout": "IPY_MODEL_79835f51bc804f868872b34ef692214a",
            "placeholder": "​",
            "style": "IPY_MODEL_771291e893774207902b66a35b3c345a",
            "value": "spiece.model: 100%"
          }
        },
        "a2906b02216041b4beeaee4d4622c13d": {
          "model_module": "@jupyter-widgets/controls",
          "model_name": "FloatProgressModel",
          "model_module_version": "1.5.0",
          "state": {
            "_dom_classes": [],
            "_model_module": "@jupyter-widgets/controls",
            "_model_module_version": "1.5.0",
            "_model_name": "FloatProgressModel",
            "_view_count": null,
            "_view_module": "@jupyter-widgets/controls",
            "_view_module_version": "1.5.0",
            "_view_name": "ProgressView",
            "bar_style": "success",
            "description": "",
            "description_tooltip": null,
            "layout": "IPY_MODEL_3317693525aa420e928305652f3b7ee9",
            "max": 791656,
            "min": 0,
            "orientation": "horizontal",
            "style": "IPY_MODEL_edad6d9b56c545a0a44eb58847f7f94e",
            "value": 791656
          }
        },
        "f4a9894f2cc74b0aa547a2b714a5a8f4": {
          "model_module": "@jupyter-widgets/controls",
          "model_name": "HTMLModel",
          "model_module_version": "1.5.0",
          "state": {
            "_dom_classes": [],
            "_model_module": "@jupyter-widgets/controls",
            "_model_module_version": "1.5.0",
            "_model_name": "HTMLModel",
            "_view_count": null,
            "_view_module": "@jupyter-widgets/controls",
            "_view_module_version": "1.5.0",
            "_view_name": "HTMLView",
            "description": "",
            "description_tooltip": null,
            "layout": "IPY_MODEL_e9f9045b3dd54dddb792c40db5c3eda3",
            "placeholder": "​",
            "style": "IPY_MODEL_65b7dbbe1b2244a884b7528d97123434",
            "value": " 792k/792k [00:00&lt;00:00, 16.0MB/s]"
          }
        },
        "54968a993092414d8fe589daf04438bb": {
          "model_module": "@jupyter-widgets/base",
          "model_name": "LayoutModel",
          "model_module_version": "1.2.0",
          "state": {
            "_model_module": "@jupyter-widgets/base",
            "_model_module_version": "1.2.0",
            "_model_name": "LayoutModel",
            "_view_count": null,
            "_view_module": "@jupyter-widgets/base",
            "_view_module_version": "1.2.0",
            "_view_name": "LayoutView",
            "align_content": null,
            "align_items": null,
            "align_self": null,
            "border": null,
            "bottom": null,
            "display": null,
            "flex": null,
            "flex_flow": null,
            "grid_area": null,
            "grid_auto_columns": null,
            "grid_auto_flow": null,
            "grid_auto_rows": null,
            "grid_column": null,
            "grid_gap": null,
            "grid_row": null,
            "grid_template_areas": null,
            "grid_template_columns": null,
            "grid_template_rows": null,
            "height": null,
            "justify_content": null,
            "justify_items": null,
            "left": null,
            "margin": null,
            "max_height": null,
            "max_width": null,
            "min_height": null,
            "min_width": null,
            "object_fit": null,
            "object_position": null,
            "order": null,
            "overflow": null,
            "overflow_x": null,
            "overflow_y": null,
            "padding": null,
            "right": null,
            "top": null,
            "visibility": null,
            "width": null
          }
        },
        "79835f51bc804f868872b34ef692214a": {
          "model_module": "@jupyter-widgets/base",
          "model_name": "LayoutModel",
          "model_module_version": "1.2.0",
          "state": {
            "_model_module": "@jupyter-widgets/base",
            "_model_module_version": "1.2.0",
            "_model_name": "LayoutModel",
            "_view_count": null,
            "_view_module": "@jupyter-widgets/base",
            "_view_module_version": "1.2.0",
            "_view_name": "LayoutView",
            "align_content": null,
            "align_items": null,
            "align_self": null,
            "border": null,
            "bottom": null,
            "display": null,
            "flex": null,
            "flex_flow": null,
            "grid_area": null,
            "grid_auto_columns": null,
            "grid_auto_flow": null,
            "grid_auto_rows": null,
            "grid_column": null,
            "grid_gap": null,
            "grid_row": null,
            "grid_template_areas": null,
            "grid_template_columns": null,
            "grid_template_rows": null,
            "height": null,
            "justify_content": null,
            "justify_items": null,
            "left": null,
            "margin": null,
            "max_height": null,
            "max_width": null,
            "min_height": null,
            "min_width": null,
            "object_fit": null,
            "object_position": null,
            "order": null,
            "overflow": null,
            "overflow_x": null,
            "overflow_y": null,
            "padding": null,
            "right": null,
            "top": null,
            "visibility": null,
            "width": null
          }
        },
        "771291e893774207902b66a35b3c345a": {
          "model_module": "@jupyter-widgets/controls",
          "model_name": "DescriptionStyleModel",
          "model_module_version": "1.5.0",
          "state": {
            "_model_module": "@jupyter-widgets/controls",
            "_model_module_version": "1.5.0",
            "_model_name": "DescriptionStyleModel",
            "_view_count": null,
            "_view_module": "@jupyter-widgets/base",
            "_view_module_version": "1.2.0",
            "_view_name": "StyleView",
            "description_width": ""
          }
        },
        "3317693525aa420e928305652f3b7ee9": {
          "model_module": "@jupyter-widgets/base",
          "model_name": "LayoutModel",
          "model_module_version": "1.2.0",
          "state": {
            "_model_module": "@jupyter-widgets/base",
            "_model_module_version": "1.2.0",
            "_model_name": "LayoutModel",
            "_view_count": null,
            "_view_module": "@jupyter-widgets/base",
            "_view_module_version": "1.2.0",
            "_view_name": "LayoutView",
            "align_content": null,
            "align_items": null,
            "align_self": null,
            "border": null,
            "bottom": null,
            "display": null,
            "flex": null,
            "flex_flow": null,
            "grid_area": null,
            "grid_auto_columns": null,
            "grid_auto_flow": null,
            "grid_auto_rows": null,
            "grid_column": null,
            "grid_gap": null,
            "grid_row": null,
            "grid_template_areas": null,
            "grid_template_columns": null,
            "grid_template_rows": null,
            "height": null,
            "justify_content": null,
            "justify_items": null,
            "left": null,
            "margin": null,
            "max_height": null,
            "max_width": null,
            "min_height": null,
            "min_width": null,
            "object_fit": null,
            "object_position": null,
            "order": null,
            "overflow": null,
            "overflow_x": null,
            "overflow_y": null,
            "padding": null,
            "right": null,
            "top": null,
            "visibility": null,
            "width": null
          }
        },
        "edad6d9b56c545a0a44eb58847f7f94e": {
          "model_module": "@jupyter-widgets/controls",
          "model_name": "ProgressStyleModel",
          "model_module_version": "1.5.0",
          "state": {
            "_model_module": "@jupyter-widgets/controls",
            "_model_module_version": "1.5.0",
            "_model_name": "ProgressStyleModel",
            "_view_count": null,
            "_view_module": "@jupyter-widgets/base",
            "_view_module_version": "1.2.0",
            "_view_name": "StyleView",
            "bar_color": null,
            "description_width": ""
          }
        },
        "e9f9045b3dd54dddb792c40db5c3eda3": {
          "model_module": "@jupyter-widgets/base",
          "model_name": "LayoutModel",
          "model_module_version": "1.2.0",
          "state": {
            "_model_module": "@jupyter-widgets/base",
            "_model_module_version": "1.2.0",
            "_model_name": "LayoutModel",
            "_view_count": null,
            "_view_module": "@jupyter-widgets/base",
            "_view_module_version": "1.2.0",
            "_view_name": "LayoutView",
            "align_content": null,
            "align_items": null,
            "align_self": null,
            "border": null,
            "bottom": null,
            "display": null,
            "flex": null,
            "flex_flow": null,
            "grid_area": null,
            "grid_auto_columns": null,
            "grid_auto_flow": null,
            "grid_auto_rows": null,
            "grid_column": null,
            "grid_gap": null,
            "grid_row": null,
            "grid_template_areas": null,
            "grid_template_columns": null,
            "grid_template_rows": null,
            "height": null,
            "justify_content": null,
            "justify_items": null,
            "left": null,
            "margin": null,
            "max_height": null,
            "max_width": null,
            "min_height": null,
            "min_width": null,
            "object_fit": null,
            "object_position": null,
            "order": null,
            "overflow": null,
            "overflow_x": null,
            "overflow_y": null,
            "padding": null,
            "right": null,
            "top": null,
            "visibility": null,
            "width": null
          }
        },
        "65b7dbbe1b2244a884b7528d97123434": {
          "model_module": "@jupyter-widgets/controls",
          "model_name": "DescriptionStyleModel",
          "model_module_version": "1.5.0",
          "state": {
            "_model_module": "@jupyter-widgets/controls",
            "_model_module_version": "1.5.0",
            "_model_name": "DescriptionStyleModel",
            "_view_count": null,
            "_view_module": "@jupyter-widgets/base",
            "_view_module_version": "1.2.0",
            "_view_name": "StyleView",
            "description_width": ""
          }
        },
        "ff0d92abf73a441aa66528b27bccc3bf": {
          "model_module": "@jupyter-widgets/controls",
          "model_name": "HBoxModel",
          "model_module_version": "1.5.0",
          "state": {
            "_dom_classes": [],
            "_model_module": "@jupyter-widgets/controls",
            "_model_module_version": "1.5.0",
            "_model_name": "HBoxModel",
            "_view_count": null,
            "_view_module": "@jupyter-widgets/controls",
            "_view_module_version": "1.5.0",
            "_view_name": "HBoxView",
            "box_style": "",
            "children": [
              "IPY_MODEL_1aa12171100746a5bb097c466ba2ac52",
              "IPY_MODEL_830d28cb5b784a69a90c23ad37b35865",
              "IPY_MODEL_df2e74d70942454b85bfc567775e8a7a"
            ],
            "layout": "IPY_MODEL_7f525d5a24bb4ab1aae07fdff47ea119"
          }
        },
        "1aa12171100746a5bb097c466ba2ac52": {
          "model_module": "@jupyter-widgets/controls",
          "model_name": "HTMLModel",
          "model_module_version": "1.5.0",
          "state": {
            "_dom_classes": [],
            "_model_module": "@jupyter-widgets/controls",
            "_model_module_version": "1.5.0",
            "_model_name": "HTMLModel",
            "_view_count": null,
            "_view_module": "@jupyter-widgets/controls",
            "_view_module_version": "1.5.0",
            "_view_name": "HTMLView",
            "description": "",
            "description_tooltip": null,
            "layout": "IPY_MODEL_6797e93bb6f04fd0b64bd2cc28ef4c41",
            "placeholder": "​",
            "style": "IPY_MODEL_91cf9a7171b84b08a86943c3f29f54a4",
            "value": "tokenizer.json: 100%"
          }
        },
        "830d28cb5b784a69a90c23ad37b35865": {
          "model_module": "@jupyter-widgets/controls",
          "model_name": "FloatProgressModel",
          "model_module_version": "1.5.0",
          "state": {
            "_dom_classes": [],
            "_model_module": "@jupyter-widgets/controls",
            "_model_module_version": "1.5.0",
            "_model_name": "FloatProgressModel",
            "_view_count": null,
            "_view_module": "@jupyter-widgets/controls",
            "_view_module_version": "1.5.0",
            "_view_name": "ProgressView",
            "bar_style": "success",
            "description": "",
            "description_tooltip": null,
            "layout": "IPY_MODEL_bd10332adc80407eab97aca28f3edb2e",
            "max": 2422348,
            "min": 0,
            "orientation": "horizontal",
            "style": "IPY_MODEL_e08a5120393448ec81bbac006b0f8ba1",
            "value": 2422348
          }
        },
        "df2e74d70942454b85bfc567775e8a7a": {
          "model_module": "@jupyter-widgets/controls",
          "model_name": "HTMLModel",
          "model_module_version": "1.5.0",
          "state": {
            "_dom_classes": [],
            "_model_module": "@jupyter-widgets/controls",
            "_model_module_version": "1.5.0",
            "_model_name": "HTMLModel",
            "_view_count": null,
            "_view_module": "@jupyter-widgets/controls",
            "_view_module_version": "1.5.0",
            "_view_name": "HTMLView",
            "description": "",
            "description_tooltip": null,
            "layout": "IPY_MODEL_1d352681d5c34f6cbad6863fb9b0dbc4",
            "placeholder": "​",
            "style": "IPY_MODEL_cf3b0bc66b7e4c0cb72a3edf612c5e79",
            "value": " 2.42M/2.42M [00:00&lt;00:00, 8.13MB/s]"
          }
        },
        "7f525d5a24bb4ab1aae07fdff47ea119": {
          "model_module": "@jupyter-widgets/base",
          "model_name": "LayoutModel",
          "model_module_version": "1.2.0",
          "state": {
            "_model_module": "@jupyter-widgets/base",
            "_model_module_version": "1.2.0",
            "_model_name": "LayoutModel",
            "_view_count": null,
            "_view_module": "@jupyter-widgets/base",
            "_view_module_version": "1.2.0",
            "_view_name": "LayoutView",
            "align_content": null,
            "align_items": null,
            "align_self": null,
            "border": null,
            "bottom": null,
            "display": null,
            "flex": null,
            "flex_flow": null,
            "grid_area": null,
            "grid_auto_columns": null,
            "grid_auto_flow": null,
            "grid_auto_rows": null,
            "grid_column": null,
            "grid_gap": null,
            "grid_row": null,
            "grid_template_areas": null,
            "grid_template_columns": null,
            "grid_template_rows": null,
            "height": null,
            "justify_content": null,
            "justify_items": null,
            "left": null,
            "margin": null,
            "max_height": null,
            "max_width": null,
            "min_height": null,
            "min_width": null,
            "object_fit": null,
            "object_position": null,
            "order": null,
            "overflow": null,
            "overflow_x": null,
            "overflow_y": null,
            "padding": null,
            "right": null,
            "top": null,
            "visibility": null,
            "width": null
          }
        },
        "6797e93bb6f04fd0b64bd2cc28ef4c41": {
          "model_module": "@jupyter-widgets/base",
          "model_name": "LayoutModel",
          "model_module_version": "1.2.0",
          "state": {
            "_model_module": "@jupyter-widgets/base",
            "_model_module_version": "1.2.0",
            "_model_name": "LayoutModel",
            "_view_count": null,
            "_view_module": "@jupyter-widgets/base",
            "_view_module_version": "1.2.0",
            "_view_name": "LayoutView",
            "align_content": null,
            "align_items": null,
            "align_self": null,
            "border": null,
            "bottom": null,
            "display": null,
            "flex": null,
            "flex_flow": null,
            "grid_area": null,
            "grid_auto_columns": null,
            "grid_auto_flow": null,
            "grid_auto_rows": null,
            "grid_column": null,
            "grid_gap": null,
            "grid_row": null,
            "grid_template_areas": null,
            "grid_template_columns": null,
            "grid_template_rows": null,
            "height": null,
            "justify_content": null,
            "justify_items": null,
            "left": null,
            "margin": null,
            "max_height": null,
            "max_width": null,
            "min_height": null,
            "min_width": null,
            "object_fit": null,
            "object_position": null,
            "order": null,
            "overflow": null,
            "overflow_x": null,
            "overflow_y": null,
            "padding": null,
            "right": null,
            "top": null,
            "visibility": null,
            "width": null
          }
        },
        "91cf9a7171b84b08a86943c3f29f54a4": {
          "model_module": "@jupyter-widgets/controls",
          "model_name": "DescriptionStyleModel",
          "model_module_version": "1.5.0",
          "state": {
            "_model_module": "@jupyter-widgets/controls",
            "_model_module_version": "1.5.0",
            "_model_name": "DescriptionStyleModel",
            "_view_count": null,
            "_view_module": "@jupyter-widgets/base",
            "_view_module_version": "1.2.0",
            "_view_name": "StyleView",
            "description_width": ""
          }
        },
        "bd10332adc80407eab97aca28f3edb2e": {
          "model_module": "@jupyter-widgets/base",
          "model_name": "LayoutModel",
          "model_module_version": "1.2.0",
          "state": {
            "_model_module": "@jupyter-widgets/base",
            "_model_module_version": "1.2.0",
            "_model_name": "LayoutModel",
            "_view_count": null,
            "_view_module": "@jupyter-widgets/base",
            "_view_module_version": "1.2.0",
            "_view_name": "LayoutView",
            "align_content": null,
            "align_items": null,
            "align_self": null,
            "border": null,
            "bottom": null,
            "display": null,
            "flex": null,
            "flex_flow": null,
            "grid_area": null,
            "grid_auto_columns": null,
            "grid_auto_flow": null,
            "grid_auto_rows": null,
            "grid_column": null,
            "grid_gap": null,
            "grid_row": null,
            "grid_template_areas": null,
            "grid_template_columns": null,
            "grid_template_rows": null,
            "height": null,
            "justify_content": null,
            "justify_items": null,
            "left": null,
            "margin": null,
            "max_height": null,
            "max_width": null,
            "min_height": null,
            "min_width": null,
            "object_fit": null,
            "object_position": null,
            "order": null,
            "overflow": null,
            "overflow_x": null,
            "overflow_y": null,
            "padding": null,
            "right": null,
            "top": null,
            "visibility": null,
            "width": null
          }
        },
        "e08a5120393448ec81bbac006b0f8ba1": {
          "model_module": "@jupyter-widgets/controls",
          "model_name": "ProgressStyleModel",
          "model_module_version": "1.5.0",
          "state": {
            "_model_module": "@jupyter-widgets/controls",
            "_model_module_version": "1.5.0",
            "_model_name": "ProgressStyleModel",
            "_view_count": null,
            "_view_module": "@jupyter-widgets/base",
            "_view_module_version": "1.2.0",
            "_view_name": "StyleView",
            "bar_color": null,
            "description_width": ""
          }
        },
        "1d352681d5c34f6cbad6863fb9b0dbc4": {
          "model_module": "@jupyter-widgets/base",
          "model_name": "LayoutModel",
          "model_module_version": "1.2.0",
          "state": {
            "_model_module": "@jupyter-widgets/base",
            "_model_module_version": "1.2.0",
            "_model_name": "LayoutModel",
            "_view_count": null,
            "_view_module": "@jupyter-widgets/base",
            "_view_module_version": "1.2.0",
            "_view_name": "LayoutView",
            "align_content": null,
            "align_items": null,
            "align_self": null,
            "border": null,
            "bottom": null,
            "display": null,
            "flex": null,
            "flex_flow": null,
            "grid_area": null,
            "grid_auto_columns": null,
            "grid_auto_flow": null,
            "grid_auto_rows": null,
            "grid_column": null,
            "grid_gap": null,
            "grid_row": null,
            "grid_template_areas": null,
            "grid_template_columns": null,
            "grid_template_rows": null,
            "height": null,
            "justify_content": null,
            "justify_items": null,
            "left": null,
            "margin": null,
            "max_height": null,
            "max_width": null,
            "min_height": null,
            "min_width": null,
            "object_fit": null,
            "object_position": null,
            "order": null,
            "overflow": null,
            "overflow_x": null,
            "overflow_y": null,
            "padding": null,
            "right": null,
            "top": null,
            "visibility": null,
            "width": null
          }
        },
        "cf3b0bc66b7e4c0cb72a3edf612c5e79": {
          "model_module": "@jupyter-widgets/controls",
          "model_name": "DescriptionStyleModel",
          "model_module_version": "1.5.0",
          "state": {
            "_model_module": "@jupyter-widgets/controls",
            "_model_module_version": "1.5.0",
            "_model_name": "DescriptionStyleModel",
            "_view_count": null,
            "_view_module": "@jupyter-widgets/base",
            "_view_module_version": "1.2.0",
            "_view_name": "StyleView",
            "description_width": ""
          }
        },
        "89afecd593114a3dbb20d190507b8217": {
          "model_module": "@jupyter-widgets/controls",
          "model_name": "HBoxModel",
          "model_module_version": "1.5.0",
          "state": {
            "_dom_classes": [],
            "_model_module": "@jupyter-widgets/controls",
            "_model_module_version": "1.5.0",
            "_model_name": "HBoxModel",
            "_view_count": null,
            "_view_module": "@jupyter-widgets/controls",
            "_view_module_version": "1.5.0",
            "_view_name": "HBoxView",
            "box_style": "",
            "children": [
              "IPY_MODEL_75ac4ac9be354171b678f04e6f41d8dc",
              "IPY_MODEL_7981eae2e62447b6b693f11a793328b2",
              "IPY_MODEL_f9b341e16025472987825fb27ad66651"
            ],
            "layout": "IPY_MODEL_b5ec632c7626422d8077b8fe5355d6e0"
          }
        },
        "75ac4ac9be354171b678f04e6f41d8dc": {
          "model_module": "@jupyter-widgets/controls",
          "model_name": "HTMLModel",
          "model_module_version": "1.5.0",
          "state": {
            "_dom_classes": [],
            "_model_module": "@jupyter-widgets/controls",
            "_model_module_version": "1.5.0",
            "_model_name": "HTMLModel",
            "_view_count": null,
            "_view_module": "@jupyter-widgets/controls",
            "_view_module_version": "1.5.0",
            "_view_name": "HTMLView",
            "description": "",
            "description_tooltip": null,
            "layout": "IPY_MODEL_16034990b14049b0ace03c2caa94b6df",
            "placeholder": "​",
            "style": "IPY_MODEL_52fda6a674dc4c128a5bd968a26f53d1",
            "value": "special_tokens_map.json: 100%"
          }
        },
        "7981eae2e62447b6b693f11a793328b2": {
          "model_module": "@jupyter-widgets/controls",
          "model_name": "FloatProgressModel",
          "model_module_version": "1.5.0",
          "state": {
            "_dom_classes": [],
            "_model_module": "@jupyter-widgets/controls",
            "_model_module_version": "1.5.0",
            "_model_name": "FloatProgressModel",
            "_view_count": null,
            "_view_module": "@jupyter-widgets/controls",
            "_view_module_version": "1.5.0",
            "_view_name": "ProgressView",
            "bar_style": "success",
            "description": "",
            "description_tooltip": null,
            "layout": "IPY_MODEL_13c06a4b969243da9a243cf277957599",
            "max": 2201,
            "min": 0,
            "orientation": "horizontal",
            "style": "IPY_MODEL_d03570a52b3b4c8e93ec40a4c871386b",
            "value": 2201
          }
        },
        "f9b341e16025472987825fb27ad66651": {
          "model_module": "@jupyter-widgets/controls",
          "model_name": "HTMLModel",
          "model_module_version": "1.5.0",
          "state": {
            "_dom_classes": [],
            "_model_module": "@jupyter-widgets/controls",
            "_model_module_version": "1.5.0",
            "_model_name": "HTMLModel",
            "_view_count": null,
            "_view_module": "@jupyter-widgets/controls",
            "_view_module_version": "1.5.0",
            "_view_name": "HTMLView",
            "description": "",
            "description_tooltip": null,
            "layout": "IPY_MODEL_dfff4b0dc82447daa6ace59e9ee8dda7",
            "placeholder": "​",
            "style": "IPY_MODEL_cb4ea09132ef4a58968faae99b8439ae",
            "value": " 2.20k/2.20k [00:00&lt;00:00, 166kB/s]"
          }
        },
        "b5ec632c7626422d8077b8fe5355d6e0": {
          "model_module": "@jupyter-widgets/base",
          "model_name": "LayoutModel",
          "model_module_version": "1.2.0",
          "state": {
            "_model_module": "@jupyter-widgets/base",
            "_model_module_version": "1.2.0",
            "_model_name": "LayoutModel",
            "_view_count": null,
            "_view_module": "@jupyter-widgets/base",
            "_view_module_version": "1.2.0",
            "_view_name": "LayoutView",
            "align_content": null,
            "align_items": null,
            "align_self": null,
            "border": null,
            "bottom": null,
            "display": null,
            "flex": null,
            "flex_flow": null,
            "grid_area": null,
            "grid_auto_columns": null,
            "grid_auto_flow": null,
            "grid_auto_rows": null,
            "grid_column": null,
            "grid_gap": null,
            "grid_row": null,
            "grid_template_areas": null,
            "grid_template_columns": null,
            "grid_template_rows": null,
            "height": null,
            "justify_content": null,
            "justify_items": null,
            "left": null,
            "margin": null,
            "max_height": null,
            "max_width": null,
            "min_height": null,
            "min_width": null,
            "object_fit": null,
            "object_position": null,
            "order": null,
            "overflow": null,
            "overflow_x": null,
            "overflow_y": null,
            "padding": null,
            "right": null,
            "top": null,
            "visibility": null,
            "width": null
          }
        },
        "16034990b14049b0ace03c2caa94b6df": {
          "model_module": "@jupyter-widgets/base",
          "model_name": "LayoutModel",
          "model_module_version": "1.2.0",
          "state": {
            "_model_module": "@jupyter-widgets/base",
            "_model_module_version": "1.2.0",
            "_model_name": "LayoutModel",
            "_view_count": null,
            "_view_module": "@jupyter-widgets/base",
            "_view_module_version": "1.2.0",
            "_view_name": "LayoutView",
            "align_content": null,
            "align_items": null,
            "align_self": null,
            "border": null,
            "bottom": null,
            "display": null,
            "flex": null,
            "flex_flow": null,
            "grid_area": null,
            "grid_auto_columns": null,
            "grid_auto_flow": null,
            "grid_auto_rows": null,
            "grid_column": null,
            "grid_gap": null,
            "grid_row": null,
            "grid_template_areas": null,
            "grid_template_columns": null,
            "grid_template_rows": null,
            "height": null,
            "justify_content": null,
            "justify_items": null,
            "left": null,
            "margin": null,
            "max_height": null,
            "max_width": null,
            "min_height": null,
            "min_width": null,
            "object_fit": null,
            "object_position": null,
            "order": null,
            "overflow": null,
            "overflow_x": null,
            "overflow_y": null,
            "padding": null,
            "right": null,
            "top": null,
            "visibility": null,
            "width": null
          }
        },
        "52fda6a674dc4c128a5bd968a26f53d1": {
          "model_module": "@jupyter-widgets/controls",
          "model_name": "DescriptionStyleModel",
          "model_module_version": "1.5.0",
          "state": {
            "_model_module": "@jupyter-widgets/controls",
            "_model_module_version": "1.5.0",
            "_model_name": "DescriptionStyleModel",
            "_view_count": null,
            "_view_module": "@jupyter-widgets/base",
            "_view_module_version": "1.2.0",
            "_view_name": "StyleView",
            "description_width": ""
          }
        },
        "13c06a4b969243da9a243cf277957599": {
          "model_module": "@jupyter-widgets/base",
          "model_name": "LayoutModel",
          "model_module_version": "1.2.0",
          "state": {
            "_model_module": "@jupyter-widgets/base",
            "_model_module_version": "1.2.0",
            "_model_name": "LayoutModel",
            "_view_count": null,
            "_view_module": "@jupyter-widgets/base",
            "_view_module_version": "1.2.0",
            "_view_name": "LayoutView",
            "align_content": null,
            "align_items": null,
            "align_self": null,
            "border": null,
            "bottom": null,
            "display": null,
            "flex": null,
            "flex_flow": null,
            "grid_area": null,
            "grid_auto_columns": null,
            "grid_auto_flow": null,
            "grid_auto_rows": null,
            "grid_column": null,
            "grid_gap": null,
            "grid_row": null,
            "grid_template_areas": null,
            "grid_template_columns": null,
            "grid_template_rows": null,
            "height": null,
            "justify_content": null,
            "justify_items": null,
            "left": null,
            "margin": null,
            "max_height": null,
            "max_width": null,
            "min_height": null,
            "min_width": null,
            "object_fit": null,
            "object_position": null,
            "order": null,
            "overflow": null,
            "overflow_x": null,
            "overflow_y": null,
            "padding": null,
            "right": null,
            "top": null,
            "visibility": null,
            "width": null
          }
        },
        "d03570a52b3b4c8e93ec40a4c871386b": {
          "model_module": "@jupyter-widgets/controls",
          "model_name": "ProgressStyleModel",
          "model_module_version": "1.5.0",
          "state": {
            "_model_module": "@jupyter-widgets/controls",
            "_model_module_version": "1.5.0",
            "_model_name": "ProgressStyleModel",
            "_view_count": null,
            "_view_module": "@jupyter-widgets/base",
            "_view_module_version": "1.2.0",
            "_view_name": "StyleView",
            "bar_color": null,
            "description_width": ""
          }
        },
        "dfff4b0dc82447daa6ace59e9ee8dda7": {
          "model_module": "@jupyter-widgets/base",
          "model_name": "LayoutModel",
          "model_module_version": "1.2.0",
          "state": {
            "_model_module": "@jupyter-widgets/base",
            "_model_module_version": "1.2.0",
            "_model_name": "LayoutModel",
            "_view_count": null,
            "_view_module": "@jupyter-widgets/base",
            "_view_module_version": "1.2.0",
            "_view_name": "LayoutView",
            "align_content": null,
            "align_items": null,
            "align_self": null,
            "border": null,
            "bottom": null,
            "display": null,
            "flex": null,
            "flex_flow": null,
            "grid_area": null,
            "grid_auto_columns": null,
            "grid_auto_flow": null,
            "grid_auto_rows": null,
            "grid_column": null,
            "grid_gap": null,
            "grid_row": null,
            "grid_template_areas": null,
            "grid_template_columns": null,
            "grid_template_rows": null,
            "height": null,
            "justify_content": null,
            "justify_items": null,
            "left": null,
            "margin": null,
            "max_height": null,
            "max_width": null,
            "min_height": null,
            "min_width": null,
            "object_fit": null,
            "object_position": null,
            "order": null,
            "overflow": null,
            "overflow_x": null,
            "overflow_y": null,
            "padding": null,
            "right": null,
            "top": null,
            "visibility": null,
            "width": null
          }
        },
        "cb4ea09132ef4a58968faae99b8439ae": {
          "model_module": "@jupyter-widgets/controls",
          "model_name": "DescriptionStyleModel",
          "model_module_version": "1.5.0",
          "state": {
            "_model_module": "@jupyter-widgets/controls",
            "_model_module_version": "1.5.0",
            "_model_name": "DescriptionStyleModel",
            "_view_count": null,
            "_view_module": "@jupyter-widgets/base",
            "_view_module_version": "1.2.0",
            "_view_name": "StyleView",
            "description_width": ""
          }
        },
        "994a6a2f6e44434d87bc3c1f8370b079": {
          "model_module": "@jupyter-widgets/controls",
          "model_name": "HBoxModel",
          "model_module_version": "1.5.0",
          "state": {
            "_dom_classes": [],
            "_model_module": "@jupyter-widgets/controls",
            "_model_module_version": "1.5.0",
            "_model_name": "HBoxModel",
            "_view_count": null,
            "_view_module": "@jupyter-widgets/controls",
            "_view_module_version": "1.5.0",
            "_view_name": "HBoxView",
            "box_style": "",
            "children": [
              "IPY_MODEL_0229fda0a02d4814bd06d6217aaecd93",
              "IPY_MODEL_116764e8b6fe4c959507592e5cc1f29b",
              "IPY_MODEL_cdd410c331c44ea2a801d5be2d2798d3"
            ],
            "layout": "IPY_MODEL_25aad68e581944c0a99f5e9da46dd681"
          }
        },
        "0229fda0a02d4814bd06d6217aaecd93": {
          "model_module": "@jupyter-widgets/controls",
          "model_name": "HTMLModel",
          "model_module_version": "1.5.0",
          "state": {
            "_dom_classes": [],
            "_model_module": "@jupyter-widgets/controls",
            "_model_module_version": "1.5.0",
            "_model_name": "HTMLModel",
            "_view_count": null,
            "_view_module": "@jupyter-widgets/controls",
            "_view_module_version": "1.5.0",
            "_view_name": "HTMLView",
            "description": "",
            "description_tooltip": null,
            "layout": "IPY_MODEL_e7390575216f41ceb8ffc9cd6b972ac0",
            "placeholder": "​",
            "style": "IPY_MODEL_fcf8a9b582344afdbb3590196d250177",
            "value": "config.json: 100%"
          }
        },
        "116764e8b6fe4c959507592e5cc1f29b": {
          "model_module": "@jupyter-widgets/controls",
          "model_name": "FloatProgressModel",
          "model_module_version": "1.5.0",
          "state": {
            "_dom_classes": [],
            "_model_module": "@jupyter-widgets/controls",
            "_model_module_version": "1.5.0",
            "_model_name": "FloatProgressModel",
            "_view_count": null,
            "_view_module": "@jupyter-widgets/controls",
            "_view_module_version": "1.5.0",
            "_view_name": "ProgressView",
            "bar_style": "success",
            "description": "",
            "description_tooltip": null,
            "layout": "IPY_MODEL_c27c4c8ad5a0496b9632ff2e5a828cf7",
            "max": 1615,
            "min": 0,
            "orientation": "horizontal",
            "style": "IPY_MODEL_cc6624d80c2747b780fc63012af59b3e",
            "value": 1615
          }
        },
        "cdd410c331c44ea2a801d5be2d2798d3": {
          "model_module": "@jupyter-widgets/controls",
          "model_name": "HTMLModel",
          "model_module_version": "1.5.0",
          "state": {
            "_dom_classes": [],
            "_model_module": "@jupyter-widgets/controls",
            "_model_module_version": "1.5.0",
            "_model_name": "HTMLModel",
            "_view_count": null,
            "_view_module": "@jupyter-widgets/controls",
            "_view_module_version": "1.5.0",
            "_view_name": "HTMLView",
            "description": "",
            "description_tooltip": null,
            "layout": "IPY_MODEL_9359183cec3a40dd832b2f76d269eb50",
            "placeholder": "​",
            "style": "IPY_MODEL_4432f04704bb46e2b47783c08e93a39a",
            "value": " 1.61k/1.61k [00:00&lt;00:00, 103kB/s]"
          }
        },
        "25aad68e581944c0a99f5e9da46dd681": {
          "model_module": "@jupyter-widgets/base",
          "model_name": "LayoutModel",
          "model_module_version": "1.2.0",
          "state": {
            "_model_module": "@jupyter-widgets/base",
            "_model_module_version": "1.2.0",
            "_model_name": "LayoutModel",
            "_view_count": null,
            "_view_module": "@jupyter-widgets/base",
            "_view_module_version": "1.2.0",
            "_view_name": "LayoutView",
            "align_content": null,
            "align_items": null,
            "align_self": null,
            "border": null,
            "bottom": null,
            "display": null,
            "flex": null,
            "flex_flow": null,
            "grid_area": null,
            "grid_auto_columns": null,
            "grid_auto_flow": null,
            "grid_auto_rows": null,
            "grid_column": null,
            "grid_gap": null,
            "grid_row": null,
            "grid_template_areas": null,
            "grid_template_columns": null,
            "grid_template_rows": null,
            "height": null,
            "justify_content": null,
            "justify_items": null,
            "left": null,
            "margin": null,
            "max_height": null,
            "max_width": null,
            "min_height": null,
            "min_width": null,
            "object_fit": null,
            "object_position": null,
            "order": null,
            "overflow": null,
            "overflow_x": null,
            "overflow_y": null,
            "padding": null,
            "right": null,
            "top": null,
            "visibility": null,
            "width": null
          }
        },
        "e7390575216f41ceb8ffc9cd6b972ac0": {
          "model_module": "@jupyter-widgets/base",
          "model_name": "LayoutModel",
          "model_module_version": "1.2.0",
          "state": {
            "_model_module": "@jupyter-widgets/base",
            "_model_module_version": "1.2.0",
            "_model_name": "LayoutModel",
            "_view_count": null,
            "_view_module": "@jupyter-widgets/base",
            "_view_module_version": "1.2.0",
            "_view_name": "LayoutView",
            "align_content": null,
            "align_items": null,
            "align_self": null,
            "border": null,
            "bottom": null,
            "display": null,
            "flex": null,
            "flex_flow": null,
            "grid_area": null,
            "grid_auto_columns": null,
            "grid_auto_flow": null,
            "grid_auto_rows": null,
            "grid_column": null,
            "grid_gap": null,
            "grid_row": null,
            "grid_template_areas": null,
            "grid_template_columns": null,
            "grid_template_rows": null,
            "height": null,
            "justify_content": null,
            "justify_items": null,
            "left": null,
            "margin": null,
            "max_height": null,
            "max_width": null,
            "min_height": null,
            "min_width": null,
            "object_fit": null,
            "object_position": null,
            "order": null,
            "overflow": null,
            "overflow_x": null,
            "overflow_y": null,
            "padding": null,
            "right": null,
            "top": null,
            "visibility": null,
            "width": null
          }
        },
        "fcf8a9b582344afdbb3590196d250177": {
          "model_module": "@jupyter-widgets/controls",
          "model_name": "DescriptionStyleModel",
          "model_module_version": "1.5.0",
          "state": {
            "_model_module": "@jupyter-widgets/controls",
            "_model_module_version": "1.5.0",
            "_model_name": "DescriptionStyleModel",
            "_view_count": null,
            "_view_module": "@jupyter-widgets/base",
            "_view_module_version": "1.2.0",
            "_view_name": "StyleView",
            "description_width": ""
          }
        },
        "c27c4c8ad5a0496b9632ff2e5a828cf7": {
          "model_module": "@jupyter-widgets/base",
          "model_name": "LayoutModel",
          "model_module_version": "1.2.0",
          "state": {
            "_model_module": "@jupyter-widgets/base",
            "_model_module_version": "1.2.0",
            "_model_name": "LayoutModel",
            "_view_count": null,
            "_view_module": "@jupyter-widgets/base",
            "_view_module_version": "1.2.0",
            "_view_name": "LayoutView",
            "align_content": null,
            "align_items": null,
            "align_self": null,
            "border": null,
            "bottom": null,
            "display": null,
            "flex": null,
            "flex_flow": null,
            "grid_area": null,
            "grid_auto_columns": null,
            "grid_auto_flow": null,
            "grid_auto_rows": null,
            "grid_column": null,
            "grid_gap": null,
            "grid_row": null,
            "grid_template_areas": null,
            "grid_template_columns": null,
            "grid_template_rows": null,
            "height": null,
            "justify_content": null,
            "justify_items": null,
            "left": null,
            "margin": null,
            "max_height": null,
            "max_width": null,
            "min_height": null,
            "min_width": null,
            "object_fit": null,
            "object_position": null,
            "order": null,
            "overflow": null,
            "overflow_x": null,
            "overflow_y": null,
            "padding": null,
            "right": null,
            "top": null,
            "visibility": null,
            "width": null
          }
        },
        "cc6624d80c2747b780fc63012af59b3e": {
          "model_module": "@jupyter-widgets/controls",
          "model_name": "ProgressStyleModel",
          "model_module_version": "1.5.0",
          "state": {
            "_model_module": "@jupyter-widgets/controls",
            "_model_module_version": "1.5.0",
            "_model_name": "ProgressStyleModel",
            "_view_count": null,
            "_view_module": "@jupyter-widgets/base",
            "_view_module_version": "1.2.0",
            "_view_name": "StyleView",
            "bar_color": null,
            "description_width": ""
          }
        },
        "9359183cec3a40dd832b2f76d269eb50": {
          "model_module": "@jupyter-widgets/base",
          "model_name": "LayoutModel",
          "model_module_version": "1.2.0",
          "state": {
            "_model_module": "@jupyter-widgets/base",
            "_model_module_version": "1.2.0",
            "_model_name": "LayoutModel",
            "_view_count": null,
            "_view_module": "@jupyter-widgets/base",
            "_view_module_version": "1.2.0",
            "_view_name": "LayoutView",
            "align_content": null,
            "align_items": null,
            "align_self": null,
            "border": null,
            "bottom": null,
            "display": null,
            "flex": null,
            "flex_flow": null,
            "grid_area": null,
            "grid_auto_columns": null,
            "grid_auto_flow": null,
            "grid_auto_rows": null,
            "grid_column": null,
            "grid_gap": null,
            "grid_row": null,
            "grid_template_areas": null,
            "grid_template_columns": null,
            "grid_template_rows": null,
            "height": null,
            "justify_content": null,
            "justify_items": null,
            "left": null,
            "margin": null,
            "max_height": null,
            "max_width": null,
            "min_height": null,
            "min_width": null,
            "object_fit": null,
            "object_position": null,
            "order": null,
            "overflow": null,
            "overflow_x": null,
            "overflow_y": null,
            "padding": null,
            "right": null,
            "top": null,
            "visibility": null,
            "width": null
          }
        },
        "4432f04704bb46e2b47783c08e93a39a": {
          "model_module": "@jupyter-widgets/controls",
          "model_name": "DescriptionStyleModel",
          "model_module_version": "1.5.0",
          "state": {
            "_model_module": "@jupyter-widgets/controls",
            "_model_module_version": "1.5.0",
            "_model_name": "DescriptionStyleModel",
            "_view_count": null,
            "_view_module": "@jupyter-widgets/base",
            "_view_module_version": "1.2.0",
            "_view_name": "StyleView",
            "description_width": ""
          }
        },
        "71987d8f6ef14ff3b863e58e89795090": {
          "model_module": "@jupyter-widgets/controls",
          "model_name": "HBoxModel",
          "model_module_version": "1.5.0",
          "state": {
            "_dom_classes": [],
            "_model_module": "@jupyter-widgets/controls",
            "_model_module_version": "1.5.0",
            "_model_name": "HBoxModel",
            "_view_count": null,
            "_view_module": "@jupyter-widgets/controls",
            "_view_module_version": "1.5.0",
            "_view_name": "HBoxView",
            "box_style": "",
            "children": [
              "IPY_MODEL_a010b19ab8274e6388e83b0202890954",
              "IPY_MODEL_82ab8a182c8a4663a0411b2f0187714e",
              "IPY_MODEL_46dbc288704542c8a77f1a45de812c0f"
            ],
            "layout": "IPY_MODEL_7fa5dc586b5b4c4a91b71ef2c2e0729d"
          }
        },
        "a010b19ab8274e6388e83b0202890954": {
          "model_module": "@jupyter-widgets/controls",
          "model_name": "HTMLModel",
          "model_module_version": "1.5.0",
          "state": {
            "_dom_classes": [],
            "_model_module": "@jupyter-widgets/controls",
            "_model_module_version": "1.5.0",
            "_model_name": "HTMLModel",
            "_view_count": null,
            "_view_module": "@jupyter-widgets/controls",
            "_view_module_version": "1.5.0",
            "_view_name": "HTMLView",
            "description": "",
            "description_tooltip": null,
            "layout": "IPY_MODEL_494773c95eaf4de987f9421512224e09",
            "placeholder": "​",
            "style": "IPY_MODEL_cfda2b19c2a64c9e8543d0d6ccfef2fd",
            "value": "pytorch_model.bin: 100%"
          }
        },
        "82ab8a182c8a4663a0411b2f0187714e": {
          "model_module": "@jupyter-widgets/controls",
          "model_name": "FloatProgressModel",
          "model_module_version": "1.5.0",
          "state": {
            "_dom_classes": [],
            "_model_module": "@jupyter-widgets/controls",
            "_model_module_version": "1.5.0",
            "_model_name": "FloatProgressModel",
            "_view_count": null,
            "_view_module": "@jupyter-widgets/controls",
            "_view_module_version": "1.5.0",
            "_view_name": "ProgressView",
            "bar_style": "success",
            "description": "",
            "description_tooltip": null,
            "layout": "IPY_MODEL_6f95ef2853064b27a9ce53e992859be7",
            "max": 891702929,
            "min": 0,
            "orientation": "horizontal",
            "style": "IPY_MODEL_d64085fc9aa24664b9012f1ed02b260f",
            "value": 891702929
          }
        },
        "46dbc288704542c8a77f1a45de812c0f": {
          "model_module": "@jupyter-widgets/controls",
          "model_name": "HTMLModel",
          "model_module_version": "1.5.0",
          "state": {
            "_dom_classes": [],
            "_model_module": "@jupyter-widgets/controls",
            "_model_module_version": "1.5.0",
            "_model_name": "HTMLModel",
            "_view_count": null,
            "_view_module": "@jupyter-widgets/controls",
            "_view_module_version": "1.5.0",
            "_view_name": "HTMLView",
            "description": "",
            "description_tooltip": null,
            "layout": "IPY_MODEL_ac654a73ce3f4f5bba8aa91efc0796f7",
            "placeholder": "​",
            "style": "IPY_MODEL_03375c9a3fbd41fb94a04594bd80b583",
            "value": " 892M/892M [00:03&lt;00:00, 245MB/s]"
          }
        },
        "7fa5dc586b5b4c4a91b71ef2c2e0729d": {
          "model_module": "@jupyter-widgets/base",
          "model_name": "LayoutModel",
          "model_module_version": "1.2.0",
          "state": {
            "_model_module": "@jupyter-widgets/base",
            "_model_module_version": "1.2.0",
            "_model_name": "LayoutModel",
            "_view_count": null,
            "_view_module": "@jupyter-widgets/base",
            "_view_module_version": "1.2.0",
            "_view_name": "LayoutView",
            "align_content": null,
            "align_items": null,
            "align_self": null,
            "border": null,
            "bottom": null,
            "display": null,
            "flex": null,
            "flex_flow": null,
            "grid_area": null,
            "grid_auto_columns": null,
            "grid_auto_flow": null,
            "grid_auto_rows": null,
            "grid_column": null,
            "grid_gap": null,
            "grid_row": null,
            "grid_template_areas": null,
            "grid_template_columns": null,
            "grid_template_rows": null,
            "height": null,
            "justify_content": null,
            "justify_items": null,
            "left": null,
            "margin": null,
            "max_height": null,
            "max_width": null,
            "min_height": null,
            "min_width": null,
            "object_fit": null,
            "object_position": null,
            "order": null,
            "overflow": null,
            "overflow_x": null,
            "overflow_y": null,
            "padding": null,
            "right": null,
            "top": null,
            "visibility": null,
            "width": null
          }
        },
        "494773c95eaf4de987f9421512224e09": {
          "model_module": "@jupyter-widgets/base",
          "model_name": "LayoutModel",
          "model_module_version": "1.2.0",
          "state": {
            "_model_module": "@jupyter-widgets/base",
            "_model_module_version": "1.2.0",
            "_model_name": "LayoutModel",
            "_view_count": null,
            "_view_module": "@jupyter-widgets/base",
            "_view_module_version": "1.2.0",
            "_view_name": "LayoutView",
            "align_content": null,
            "align_items": null,
            "align_self": null,
            "border": null,
            "bottom": null,
            "display": null,
            "flex": null,
            "flex_flow": null,
            "grid_area": null,
            "grid_auto_columns": null,
            "grid_auto_flow": null,
            "grid_auto_rows": null,
            "grid_column": null,
            "grid_gap": null,
            "grid_row": null,
            "grid_template_areas": null,
            "grid_template_columns": null,
            "grid_template_rows": null,
            "height": null,
            "justify_content": null,
            "justify_items": null,
            "left": null,
            "margin": null,
            "max_height": null,
            "max_width": null,
            "min_height": null,
            "min_width": null,
            "object_fit": null,
            "object_position": null,
            "order": null,
            "overflow": null,
            "overflow_x": null,
            "overflow_y": null,
            "padding": null,
            "right": null,
            "top": null,
            "visibility": null,
            "width": null
          }
        },
        "cfda2b19c2a64c9e8543d0d6ccfef2fd": {
          "model_module": "@jupyter-widgets/controls",
          "model_name": "DescriptionStyleModel",
          "model_module_version": "1.5.0",
          "state": {
            "_model_module": "@jupyter-widgets/controls",
            "_model_module_version": "1.5.0",
            "_model_name": "DescriptionStyleModel",
            "_view_count": null,
            "_view_module": "@jupyter-widgets/base",
            "_view_module_version": "1.2.0",
            "_view_name": "StyleView",
            "description_width": ""
          }
        },
        "6f95ef2853064b27a9ce53e992859be7": {
          "model_module": "@jupyter-widgets/base",
          "model_name": "LayoutModel",
          "model_module_version": "1.2.0",
          "state": {
            "_model_module": "@jupyter-widgets/base",
            "_model_module_version": "1.2.0",
            "_model_name": "LayoutModel",
            "_view_count": null,
            "_view_module": "@jupyter-widgets/base",
            "_view_module_version": "1.2.0",
            "_view_name": "LayoutView",
            "align_content": null,
            "align_items": null,
            "align_self": null,
            "border": null,
            "bottom": null,
            "display": null,
            "flex": null,
            "flex_flow": null,
            "grid_area": null,
            "grid_auto_columns": null,
            "grid_auto_flow": null,
            "grid_auto_rows": null,
            "grid_column": null,
            "grid_gap": null,
            "grid_row": null,
            "grid_template_areas": null,
            "grid_template_columns": null,
            "grid_template_rows": null,
            "height": null,
            "justify_content": null,
            "justify_items": null,
            "left": null,
            "margin": null,
            "max_height": null,
            "max_width": null,
            "min_height": null,
            "min_width": null,
            "object_fit": null,
            "object_position": null,
            "order": null,
            "overflow": null,
            "overflow_x": null,
            "overflow_y": null,
            "padding": null,
            "right": null,
            "top": null,
            "visibility": null,
            "width": null
          }
        },
        "d64085fc9aa24664b9012f1ed02b260f": {
          "model_module": "@jupyter-widgets/controls",
          "model_name": "ProgressStyleModel",
          "model_module_version": "1.5.0",
          "state": {
            "_model_module": "@jupyter-widgets/controls",
            "_model_module_version": "1.5.0",
            "_model_name": "ProgressStyleModel",
            "_view_count": null,
            "_view_module": "@jupyter-widgets/base",
            "_view_module_version": "1.2.0",
            "_view_name": "StyleView",
            "bar_color": null,
            "description_width": ""
          }
        },
        "ac654a73ce3f4f5bba8aa91efc0796f7": {
          "model_module": "@jupyter-widgets/base",
          "model_name": "LayoutModel",
          "model_module_version": "1.2.0",
          "state": {
            "_model_module": "@jupyter-widgets/base",
            "_model_module_version": "1.2.0",
            "_model_name": "LayoutModel",
            "_view_count": null,
            "_view_module": "@jupyter-widgets/base",
            "_view_module_version": "1.2.0",
            "_view_name": "LayoutView",
            "align_content": null,
            "align_items": null,
            "align_self": null,
            "border": null,
            "bottom": null,
            "display": null,
            "flex": null,
            "flex_flow": null,
            "grid_area": null,
            "grid_auto_columns": null,
            "grid_auto_flow": null,
            "grid_auto_rows": null,
            "grid_column": null,
            "grid_gap": null,
            "grid_row": null,
            "grid_template_areas": null,
            "grid_template_columns": null,
            "grid_template_rows": null,
            "height": null,
            "justify_content": null,
            "justify_items": null,
            "left": null,
            "margin": null,
            "max_height": null,
            "max_width": null,
            "min_height": null,
            "min_width": null,
            "object_fit": null,
            "object_position": null,
            "order": null,
            "overflow": null,
            "overflow_x": null,
            "overflow_y": null,
            "padding": null,
            "right": null,
            "top": null,
            "visibility": null,
            "width": null
          }
        },
        "03375c9a3fbd41fb94a04594bd80b583": {
          "model_module": "@jupyter-widgets/controls",
          "model_name": "DescriptionStyleModel",
          "model_module_version": "1.5.0",
          "state": {
            "_model_module": "@jupyter-widgets/controls",
            "_model_module_version": "1.5.0",
            "_model_name": "DescriptionStyleModel",
            "_view_count": null,
            "_view_module": "@jupyter-widgets/base",
            "_view_module_version": "1.2.0",
            "_view_name": "StyleView",
            "description_width": ""
          }
        },
        "0d9d3eaaf6aa43d18f2c62223c51bb10": {
          "model_module": "@jupyter-widgets/controls",
          "model_name": "HBoxModel",
          "model_module_version": "1.5.0",
          "state": {
            "_dom_classes": [],
            "_model_module": "@jupyter-widgets/controls",
            "_model_module_version": "1.5.0",
            "_model_name": "HBoxModel",
            "_view_count": null,
            "_view_module": "@jupyter-widgets/controls",
            "_view_module_version": "1.5.0",
            "_view_name": "HBoxView",
            "box_style": "",
            "children": [
              "IPY_MODEL_f1e7c0ebc24f490ab26263d9d0b1c3dc",
              "IPY_MODEL_dac6c7d4f97b48e0957a36f0a4cb0965",
              "IPY_MODEL_03e99f222ea7444dbdec3f2cff3cfc7b"
            ],
            "layout": "IPY_MODEL_76fcef35355b46b8959f2ca0c1404036"
          }
        },
        "f1e7c0ebc24f490ab26263d9d0b1c3dc": {
          "model_module": "@jupyter-widgets/controls",
          "model_name": "HTMLModel",
          "model_module_version": "1.5.0",
          "state": {
            "_dom_classes": [],
            "_model_module": "@jupyter-widgets/controls",
            "_model_module_version": "1.5.0",
            "_model_name": "HTMLModel",
            "_view_count": null,
            "_view_module": "@jupyter-widgets/controls",
            "_view_module_version": "1.5.0",
            "_view_name": "HTMLView",
            "description": "",
            "description_tooltip": null,
            "layout": "IPY_MODEL_826128a98abd49e89c569590a4f01c84",
            "placeholder": "​",
            "style": "IPY_MODEL_1c0e9631b2f041bbbbcf1264a45a463f",
            "value": "generation_config.json: 100%"
          }
        },
        "dac6c7d4f97b48e0957a36f0a4cb0965": {
          "model_module": "@jupyter-widgets/controls",
          "model_name": "FloatProgressModel",
          "model_module_version": "1.5.0",
          "state": {
            "_dom_classes": [],
            "_model_module": "@jupyter-widgets/controls",
            "_model_module_version": "1.5.0",
            "_model_name": "FloatProgressModel",
            "_view_count": null,
            "_view_module": "@jupyter-widgets/controls",
            "_view_module_version": "1.5.0",
            "_view_name": "ProgressView",
            "bar_style": "success",
            "description": "",
            "description_tooltip": null,
            "layout": "IPY_MODEL_3bee48ae30f747d4988b1269b249d0c0",
            "max": 147,
            "min": 0,
            "orientation": "horizontal",
            "style": "IPY_MODEL_d17a32cba9974079bde03180269ce2ea",
            "value": 147
          }
        },
        "03e99f222ea7444dbdec3f2cff3cfc7b": {
          "model_module": "@jupyter-widgets/controls",
          "model_name": "HTMLModel",
          "model_module_version": "1.5.0",
          "state": {
            "_dom_classes": [],
            "_model_module": "@jupyter-widgets/controls",
            "_model_module_version": "1.5.0",
            "_model_name": "HTMLModel",
            "_view_count": null,
            "_view_module": "@jupyter-widgets/controls",
            "_view_module_version": "1.5.0",
            "_view_name": "HTMLView",
            "description": "",
            "description_tooltip": null,
            "layout": "IPY_MODEL_2f5a356ca48840099ad9603ea9301ac4",
            "placeholder": "​",
            "style": "IPY_MODEL_d85ac3a6779646b082b299b9ceb1400e",
            "value": " 147/147 [00:00&lt;00:00, 10.1kB/s]"
          }
        },
        "76fcef35355b46b8959f2ca0c1404036": {
          "model_module": "@jupyter-widgets/base",
          "model_name": "LayoutModel",
          "model_module_version": "1.2.0",
          "state": {
            "_model_module": "@jupyter-widgets/base",
            "_model_module_version": "1.2.0",
            "_model_name": "LayoutModel",
            "_view_count": null,
            "_view_module": "@jupyter-widgets/base",
            "_view_module_version": "1.2.0",
            "_view_name": "LayoutView",
            "align_content": null,
            "align_items": null,
            "align_self": null,
            "border": null,
            "bottom": null,
            "display": null,
            "flex": null,
            "flex_flow": null,
            "grid_area": null,
            "grid_auto_columns": null,
            "grid_auto_flow": null,
            "grid_auto_rows": null,
            "grid_column": null,
            "grid_gap": null,
            "grid_row": null,
            "grid_template_areas": null,
            "grid_template_columns": null,
            "grid_template_rows": null,
            "height": null,
            "justify_content": null,
            "justify_items": null,
            "left": null,
            "margin": null,
            "max_height": null,
            "max_width": null,
            "min_height": null,
            "min_width": null,
            "object_fit": null,
            "object_position": null,
            "order": null,
            "overflow": null,
            "overflow_x": null,
            "overflow_y": null,
            "padding": null,
            "right": null,
            "top": null,
            "visibility": null,
            "width": null
          }
        },
        "826128a98abd49e89c569590a4f01c84": {
          "model_module": "@jupyter-widgets/base",
          "model_name": "LayoutModel",
          "model_module_version": "1.2.0",
          "state": {
            "_model_module": "@jupyter-widgets/base",
            "_model_module_version": "1.2.0",
            "_model_name": "LayoutModel",
            "_view_count": null,
            "_view_module": "@jupyter-widgets/base",
            "_view_module_version": "1.2.0",
            "_view_name": "LayoutView",
            "align_content": null,
            "align_items": null,
            "align_self": null,
            "border": null,
            "bottom": null,
            "display": null,
            "flex": null,
            "flex_flow": null,
            "grid_area": null,
            "grid_auto_columns": null,
            "grid_auto_flow": null,
            "grid_auto_rows": null,
            "grid_column": null,
            "grid_gap": null,
            "grid_row": null,
            "grid_template_areas": null,
            "grid_template_columns": null,
            "grid_template_rows": null,
            "height": null,
            "justify_content": null,
            "justify_items": null,
            "left": null,
            "margin": null,
            "max_height": null,
            "max_width": null,
            "min_height": null,
            "min_width": null,
            "object_fit": null,
            "object_position": null,
            "order": null,
            "overflow": null,
            "overflow_x": null,
            "overflow_y": null,
            "padding": null,
            "right": null,
            "top": null,
            "visibility": null,
            "width": null
          }
        },
        "1c0e9631b2f041bbbbcf1264a45a463f": {
          "model_module": "@jupyter-widgets/controls",
          "model_name": "DescriptionStyleModel",
          "model_module_version": "1.5.0",
          "state": {
            "_model_module": "@jupyter-widgets/controls",
            "_model_module_version": "1.5.0",
            "_model_name": "DescriptionStyleModel",
            "_view_count": null,
            "_view_module": "@jupyter-widgets/base",
            "_view_module_version": "1.2.0",
            "_view_name": "StyleView",
            "description_width": ""
          }
        },
        "3bee48ae30f747d4988b1269b249d0c0": {
          "model_module": "@jupyter-widgets/base",
          "model_name": "LayoutModel",
          "model_module_version": "1.2.0",
          "state": {
            "_model_module": "@jupyter-widgets/base",
            "_model_module_version": "1.2.0",
            "_model_name": "LayoutModel",
            "_view_count": null,
            "_view_module": "@jupyter-widgets/base",
            "_view_module_version": "1.2.0",
            "_view_name": "LayoutView",
            "align_content": null,
            "align_items": null,
            "align_self": null,
            "border": null,
            "bottom": null,
            "display": null,
            "flex": null,
            "flex_flow": null,
            "grid_area": null,
            "grid_auto_columns": null,
            "grid_auto_flow": null,
            "grid_auto_rows": null,
            "grid_column": null,
            "grid_gap": null,
            "grid_row": null,
            "grid_template_areas": null,
            "grid_template_columns": null,
            "grid_template_rows": null,
            "height": null,
            "justify_content": null,
            "justify_items": null,
            "left": null,
            "margin": null,
            "max_height": null,
            "max_width": null,
            "min_height": null,
            "min_width": null,
            "object_fit": null,
            "object_position": null,
            "order": null,
            "overflow": null,
            "overflow_x": null,
            "overflow_y": null,
            "padding": null,
            "right": null,
            "top": null,
            "visibility": null,
            "width": null
          }
        },
        "d17a32cba9974079bde03180269ce2ea": {
          "model_module": "@jupyter-widgets/controls",
          "model_name": "ProgressStyleModel",
          "model_module_version": "1.5.0",
          "state": {
            "_model_module": "@jupyter-widgets/controls",
            "_model_module_version": "1.5.0",
            "_model_name": "ProgressStyleModel",
            "_view_count": null,
            "_view_module": "@jupyter-widgets/base",
            "_view_module_version": "1.2.0",
            "_view_name": "StyleView",
            "bar_color": null,
            "description_width": ""
          }
        },
        "2f5a356ca48840099ad9603ea9301ac4": {
          "model_module": "@jupyter-widgets/base",
          "model_name": "LayoutModel",
          "model_module_version": "1.2.0",
          "state": {
            "_model_module": "@jupyter-widgets/base",
            "_model_module_version": "1.2.0",
            "_model_name": "LayoutModel",
            "_view_count": null,
            "_view_module": "@jupyter-widgets/base",
            "_view_module_version": "1.2.0",
            "_view_name": "LayoutView",
            "align_content": null,
            "align_items": null,
            "align_self": null,
            "border": null,
            "bottom": null,
            "display": null,
            "flex": null,
            "flex_flow": null,
            "grid_area": null,
            "grid_auto_columns": null,
            "grid_auto_flow": null,
            "grid_auto_rows": null,
            "grid_column": null,
            "grid_gap": null,
            "grid_row": null,
            "grid_template_areas": null,
            "grid_template_columns": null,
            "grid_template_rows": null,
            "height": null,
            "justify_content": null,
            "justify_items": null,
            "left": null,
            "margin": null,
            "max_height": null,
            "max_width": null,
            "min_height": null,
            "min_width": null,
            "object_fit": null,
            "object_position": null,
            "order": null,
            "overflow": null,
            "overflow_x": null,
            "overflow_y": null,
            "padding": null,
            "right": null,
            "top": null,
            "visibility": null,
            "width": null
          }
        },
        "d85ac3a6779646b082b299b9ceb1400e": {
          "model_module": "@jupyter-widgets/controls",
          "model_name": "DescriptionStyleModel",
          "model_module_version": "1.5.0",
          "state": {
            "_model_module": "@jupyter-widgets/controls",
            "_model_module_version": "1.5.0",
            "_model_name": "DescriptionStyleModel",
            "_view_count": null,
            "_view_module": "@jupyter-widgets/base",
            "_view_module_version": "1.2.0",
            "_view_name": "StyleView",
            "description_width": ""
          }
        }
      }
    }
  },
  "cells": [
    {
      "cell_type": "markdown",
      "metadata": {
        "id": "view-in-github",
        "colab_type": "text"
      },
      "source": [
        "<a href=\"https://colab.research.google.com/github/Ranjanunicode/kushmanda_Task/blob/main/Kushmanda_Personalized_paraphrase_T5.ipynb\" target=\"_parent\"><img src=\"https://colab.research.google.com/assets/colab-badge.svg\" alt=\"Open In Colab\"/></a>"
      ]
    },
    {
      "cell_type": "code",
      "source": [
        "# /***************************************************************************************************************************\n",
        "# Copyright [2024] [Ranjan Kumar Pandit @ kushmanda Tech]\n",
        "\n",
        "# This code is licensed under Kushmanda Tech LLC license\n",
        "\n",
        "# Property of Kushmanda Tech LLC, Do not distribute to unauthorized person. Do not print / copy without explicit permission.\n",
        "\n",
        "# App name :\n",
        "\n",
        "# Date:01-04-2023\n",
        "\n",
        "# Purpose : Language model that deals with User personalised text Paraphrasing.\n",
        "\n",
        "# Brief :\n",
        "\n",
        "# Developer : Ranjan Kumar Pandit.\n",
        "\n",
        "# email : contact@kushmanda.tech Phone : +1 (760) 659-0487\n",
        "\n",
        "# *************************************************************************************************************************** */"
      ],
      "metadata": {
        "id": "wwy9yQTp_WtU"
      },
      "execution_count": null,
      "outputs": []
    },
    {
      "cell_type": "code",
      "source": [
        "# /***************************************************************\n",
        "#  * Copyright [2024] [Ranjan Kumar Pandit @ kushmanda Tech]\n",
        "#  *\n",
        "#  * Licensed under the Apache License, Version 2.0 (the \"License\");\n",
        "#  * you may not use this file except in compliance with the License.\n",
        "#  * You may obtain a copy of the License at\n",
        "#  *\n",
        "#  *\n",
        "#  *\n",
        "#  * Unless required by applicable law or agreed to in writing, software\n",
        "#  * distributed under the License is distributed on an \"AS IS\" BASIS,\n",
        "#  * WITHOUT WARRANTIES OR CONDITIONS OF ANY KIND, either express or implied.\n",
        "#  * See the License for the specific language governing permissions and\n",
        "#  * limitations under the License.\n",
        "#  ***************************************************************/\n"
      ],
      "metadata": {
        "id": "mWnxXEA9P77e"
      },
      "execution_count": null,
      "outputs": []
    },
    {
      "cell_type": "code",
      "source": [
        "from transformers import AutoTokenizer, AutoModelForSeq2SeqLM\n",
        "\n",
        "device = \"cpu\"\n",
        "\n",
        "tokenizer = AutoTokenizer.from_pretrained(\"humarin/chatgpt_paraphraser_on_T5_base\")\n",
        "\n",
        "model = AutoModelForSeq2SeqLM.from_pretrained(\"humarin/chatgpt_paraphraser_on_T5_base\").to(device)\n",
        "\n",
        "def paraphrase(\n",
        "    user_context,\n",
        "    question,\n",
        "    num_beams=5,\n",
        "    num_beam_groups=5,\n",
        "    num_return_sequences=5,\n",
        "    repetition_penalty=10.0,\n",
        "    diversity_penalty=3.0,\n",
        "    no_repeat_ngram_size=2,\n",
        "    temperature=0.7,\n",
        "    max_length=128\n",
        "):\n",
        "    input_ids = tokenizer(\n",
        "        f'{user_context} | paraphrase: {question}',\n",
        "        return_tensors=\"pt\", padding=\"longest\",\n",
        "        max_length=max_length,\n",
        "        truncation=True,\n",
        "    ).input_ids\n",
        "\n",
        "    outputs = model.generate(\n",
        "        input_ids, temperature=temperature, repetition_penalty=repetition_penalty,\n",
        "        num_return_sequences=num_return_sequences, no_repeat_ngram_size=no_repeat_ngram_size,\n",
        "        num_beams=num_beams, num_beam_groups=num_beam_groups,\n",
        "        max_length=max_length, diversity_penalty=diversity_penalty\n",
        "    )\n",
        "\n",
        "    res = tokenizer.batch_decode(outputs, skip_special_tokens=True)\n",
        "\n",
        "    return res\n",
        "\n",
        "# text = \"I am thinking about leaving the field of software engineering and giving NLP a shot. I've been thinking about this for a while now and I feel like I am ready now.\"\n",
        "# paraphrase(text)\n"
      ],
      "metadata": {
        "id": "F-bJTVmwgbsV",
        "colab": {
          "base_uri": "https://localhost:8080/",
          "height": 370,
          "referenced_widgets": [
            "84e9415cd232482fa5b787d3a58ae0b4",
            "f39f1dccdc98490fb7f7354cba057c59",
            "22a68fa520d14089904c8a8718faf8d4",
            "d210ff91563d4358a7f7810cb447bc84",
            "29b0f060a8d44bd19ef2b3dd9fb941f0",
            "6cac1d9636d44278b7dad7c140655142",
            "4db55870c6da4e7e91d07537521644d2",
            "1ecbe72297ad4adbbbf4158bed5bbd7e",
            "a9a2f9d253ce485798adaf94c201114f",
            "894aa91421d546eb84e2d5999f2e245d",
            "7a08dc0d72cf4d2fb91722a013839f97",
            "f6dd378c49a44e548b8f74a0479d1a5d",
            "8ed0abef3384432e9b384fbcb37648b4",
            "a2906b02216041b4beeaee4d4622c13d",
            "f4a9894f2cc74b0aa547a2b714a5a8f4",
            "54968a993092414d8fe589daf04438bb",
            "79835f51bc804f868872b34ef692214a",
            "771291e893774207902b66a35b3c345a",
            "3317693525aa420e928305652f3b7ee9",
            "edad6d9b56c545a0a44eb58847f7f94e",
            "e9f9045b3dd54dddb792c40db5c3eda3",
            "65b7dbbe1b2244a884b7528d97123434",
            "ff0d92abf73a441aa66528b27bccc3bf",
            "1aa12171100746a5bb097c466ba2ac52",
            "830d28cb5b784a69a90c23ad37b35865",
            "df2e74d70942454b85bfc567775e8a7a",
            "7f525d5a24bb4ab1aae07fdff47ea119",
            "6797e93bb6f04fd0b64bd2cc28ef4c41",
            "91cf9a7171b84b08a86943c3f29f54a4",
            "bd10332adc80407eab97aca28f3edb2e",
            "e08a5120393448ec81bbac006b0f8ba1",
            "1d352681d5c34f6cbad6863fb9b0dbc4",
            "cf3b0bc66b7e4c0cb72a3edf612c5e79",
            "89afecd593114a3dbb20d190507b8217",
            "75ac4ac9be354171b678f04e6f41d8dc",
            "7981eae2e62447b6b693f11a793328b2",
            "f9b341e16025472987825fb27ad66651",
            "b5ec632c7626422d8077b8fe5355d6e0",
            "16034990b14049b0ace03c2caa94b6df",
            "52fda6a674dc4c128a5bd968a26f53d1",
            "13c06a4b969243da9a243cf277957599",
            "d03570a52b3b4c8e93ec40a4c871386b",
            "dfff4b0dc82447daa6ace59e9ee8dda7",
            "cb4ea09132ef4a58968faae99b8439ae",
            "994a6a2f6e44434d87bc3c1f8370b079",
            "0229fda0a02d4814bd06d6217aaecd93",
            "116764e8b6fe4c959507592e5cc1f29b",
            "cdd410c331c44ea2a801d5be2d2798d3",
            "25aad68e581944c0a99f5e9da46dd681",
            "e7390575216f41ceb8ffc9cd6b972ac0",
            "fcf8a9b582344afdbb3590196d250177",
            "c27c4c8ad5a0496b9632ff2e5a828cf7",
            "cc6624d80c2747b780fc63012af59b3e",
            "9359183cec3a40dd832b2f76d269eb50",
            "4432f04704bb46e2b47783c08e93a39a",
            "71987d8f6ef14ff3b863e58e89795090",
            "a010b19ab8274e6388e83b0202890954",
            "82ab8a182c8a4663a0411b2f0187714e",
            "46dbc288704542c8a77f1a45de812c0f",
            "7fa5dc586b5b4c4a91b71ef2c2e0729d",
            "494773c95eaf4de987f9421512224e09",
            "cfda2b19c2a64c9e8543d0d6ccfef2fd",
            "6f95ef2853064b27a9ce53e992859be7",
            "d64085fc9aa24664b9012f1ed02b260f",
            "ac654a73ce3f4f5bba8aa91efc0796f7",
            "03375c9a3fbd41fb94a04594bd80b583",
            "0d9d3eaaf6aa43d18f2c62223c51bb10",
            "f1e7c0ebc24f490ab26263d9d0b1c3dc",
            "dac6c7d4f97b48e0957a36f0a4cb0965",
            "03e99f222ea7444dbdec3f2cff3cfc7b",
            "76fcef35355b46b8959f2ca0c1404036",
            "826128a98abd49e89c569590a4f01c84",
            "1c0e9631b2f041bbbbcf1264a45a463f",
            "3bee48ae30f747d4988b1269b249d0c0",
            "d17a32cba9974079bde03180269ce2ea",
            "2f5a356ca48840099ad9603ea9301ac4",
            "d85ac3a6779646b082b299b9ceb1400e"
          ]
        },
        "outputId": "70163989-117b-4836-eb1c-8852722a9330"
      },
      "execution_count": null,
      "outputs": [
        {
          "output_type": "stream",
          "name": "stderr",
          "text": [
            "/usr/local/lib/python3.10/dist-packages/huggingface_hub/utils/_token.py:88: UserWarning: \n",
            "The secret `HF_TOKEN` does not exist in your Colab secrets.\n",
            "To authenticate with the Hugging Face Hub, create a token in your settings tab (https://huggingface.co/settings/tokens), set it as secret in your Google Colab and restart your session.\n",
            "You will be able to reuse this secret in all of your notebooks.\n",
            "Please note that authentication is recommended but still optional to access public models or datasets.\n",
            "  warnings.warn(\n"
          ]
        },
        {
          "output_type": "display_data",
          "data": {
            "text/plain": [
              "tokenizer_config.json:   0%|          | 0.00/2.32k [00:00<?, ?B/s]"
            ],
            "application/vnd.jupyter.widget-view+json": {
              "version_major": 2,
              "version_minor": 0,
              "model_id": "84e9415cd232482fa5b787d3a58ae0b4"
            }
          },
          "metadata": {}
        },
        {
          "output_type": "display_data",
          "data": {
            "text/plain": [
              "spiece.model:   0%|          | 0.00/792k [00:00<?, ?B/s]"
            ],
            "application/vnd.jupyter.widget-view+json": {
              "version_major": 2,
              "version_minor": 0,
              "model_id": "f6dd378c49a44e548b8f74a0479d1a5d"
            }
          },
          "metadata": {}
        },
        {
          "output_type": "display_data",
          "data": {
            "text/plain": [
              "tokenizer.json:   0%|          | 0.00/2.42M [00:00<?, ?B/s]"
            ],
            "application/vnd.jupyter.widget-view+json": {
              "version_major": 2,
              "version_minor": 0,
              "model_id": "ff0d92abf73a441aa66528b27bccc3bf"
            }
          },
          "metadata": {}
        },
        {
          "output_type": "display_data",
          "data": {
            "text/plain": [
              "special_tokens_map.json:   0%|          | 0.00/2.20k [00:00<?, ?B/s]"
            ],
            "application/vnd.jupyter.widget-view+json": {
              "version_major": 2,
              "version_minor": 0,
              "model_id": "89afecd593114a3dbb20d190507b8217"
            }
          },
          "metadata": {}
        },
        {
          "output_type": "display_data",
          "data": {
            "text/plain": [
              "config.json:   0%|          | 0.00/1.61k [00:00<?, ?B/s]"
            ],
            "application/vnd.jupyter.widget-view+json": {
              "version_major": 2,
              "version_minor": 0,
              "model_id": "994a6a2f6e44434d87bc3c1f8370b079"
            }
          },
          "metadata": {}
        },
        {
          "output_type": "display_data",
          "data": {
            "text/plain": [
              "pytorch_model.bin:   0%|          | 0.00/892M [00:00<?, ?B/s]"
            ],
            "application/vnd.jupyter.widget-view+json": {
              "version_major": 2,
              "version_minor": 0,
              "model_id": "71987d8f6ef14ff3b863e58e89795090"
            }
          },
          "metadata": {}
        },
        {
          "output_type": "display_data",
          "data": {
            "text/plain": [
              "generation_config.json:   0%|          | 0.00/147 [00:00<?, ?B/s]"
            ],
            "application/vnd.jupyter.widget-view+json": {
              "version_major": 2,
              "version_minor": 0,
              "model_id": "0d9d3eaaf6aa43d18f2c62223c51bb10"
            }
          },
          "metadata": {}
        }
      ]
    },
    {
      "cell_type": "markdown",
      "source": [
        "Test the model."
      ],
      "metadata": {
        "id": "B6YHY4m0nrmG"
      }
    },
    {
      "cell_type": "markdown",
      "source": [
        "## Model Testing with personalization and some input changes."
      ],
      "metadata": {
        "id": "FSgkWQmF88Nr"
      }
    },
    {
      "cell_type": "code",
      "source": [
        "import random"
      ],
      "metadata": {
        "id": "QmEDdWf0576J"
      },
      "execution_count": null,
      "outputs": []
    },
    {
      "cell_type": "markdown",
      "source": [
        "## Direction for the Day"
      ],
      "metadata": {
        "id": "8DTl-Ifi6lv3"
      }
    },
    {
      "cell_type": "code",
      "source": [
        "user_context = \"Suggest an action on Monday for Mr. Ranjan who is devotee of Lord Shiva has a positive day from Astrology standpoint\"\n",
        "text = \"This is a good day to organize your thoughts and learn big picture. If you spend time on this. You may feel much better control over the risks and fears you may have.\"\n",
        "out_put = paraphrase(user_context,text)\n",
        "for i in range(len(out_put)):\n",
        "  print(f\"{i+1}. {out_put[i]}\")\n",
        "  print(\"\")"
      ],
      "metadata": {
        "colab": {
          "base_uri": "https://localhost:8080/"
        },
        "id": "DKSc95kt5tT_",
        "outputId": "5ba4cc10-8e47-418c-f3a0-39944281deaa"
      },
      "execution_count": null,
      "outputs": [
        {
          "output_type": "stream",
          "name": "stderr",
          "text": [
            "/usr/local/lib/python3.10/dist-packages/transformers/generation/configuration_utils.py:381: UserWarning: `do_sample` is set to `False`. However, `temperature` is set to `0.7` -- this flag is only used in sample-based generation modes. You should set `do_sample=True` or unset `temperature`.\n",
            "  warnings.warn(\n"
          ]
        },
        {
          "output_type": "stream",
          "name": "stdout",
          "text": [
            "1. From an astrological standpoint, Monday is a good day to organize your thoughts and learn about the big picture. If you dedicate some time to this, you may find it easier to manage your risks and fears.\n",
            "\n",
            "2. To Mr Ranjan, an astrologer and devotee of Lord Shiva, Monday is advisable to plan ahead and explore the big picture. By doing this, you can gain greater control over your risks and fears.\n",
            "\n",
            "3. As a devotee of Lord Shiva, it is recommended to plan ahead for Monday so that you can gain clarity on the bigger picture and minimize your potential risks.\n",
            "\n",
            "4. It is recommended by Astrology to use Monday as a good day to organize your thoughts and learn about the bigger picture, as Mr. Ranjan, devoted devotee of Lord Shiva, may find it beneficial from an astrological perspective. By taking this approach, you may be able to feel more confident in handling your fears and potential risks.\n",
            "\n",
            "5. According to Astrology, Monday is a good day for organizing one's mind and studying the big picture. If you can manage your worries on this day, you may be able to overcome any fears related to risks or other concerns.\n",
            "\n"
          ]
        }
      ]
    },
    {
      "cell_type": "code",
      "source": [
        "print(out_put[random.randint(0, len(out_put)-1)])"
      ],
      "metadata": {
        "colab": {
          "base_uri": "https://localhost:8080/"
        },
        "id": "N73tYE1P6RIG",
        "outputId": "37935e6a-db67-4da5-ab02-51f2c5f90bd3"
      },
      "execution_count": null,
      "outputs": [
        {
          "output_type": "stream",
          "name": "stdout",
          "text": [
            "From an astrological standpoint, Monday is a good day to organize your thoughts and learn about the big picture. If you dedicate some time to this, you may find it easier to manage your risks and fears.\n"
          ]
        }
      ]
    },
    {
      "cell_type": "markdown",
      "source": [
        "## Fruitful Sacrifices"
      ],
      "metadata": {
        "id": "5KcP7_gG6p5L"
      }
    },
    {
      "cell_type": "code",
      "source": [
        "user_context = \"Suggest an action on Monday for Mr. Ranjan who is devotee of Lord Shiva has a positive day from Astrology standpoint\"\n",
        "text = \"Your sacrifices weren't done in vain you have made so many sacrifices for the life you have today, and you have also made sacrifices for the sake of your future. Your efforts are paying off now in a huge way.\"\n",
        "out_put = paraphrase(user_context,text)\n",
        "for i in range(len(out_put)):\n",
        "  print(f\"{i+1}. {out_put[i]}\")\n",
        "  print(\"\")"
      ],
      "metadata": {
        "colab": {
          "base_uri": "https://localhost:8080/"
        },
        "id": "94yfEStk6Esq",
        "outputId": "a82e7fec-1860-42af-a8d7-78bdc01bf528"
      },
      "execution_count": null,
      "outputs": [
        {
          "output_type": "stream",
          "name": "stdout",
          "text": [
            "1. As a devotee of Lord Shiva, wish Mr Ranjan 'a good day in life' on Monday as your sacrifices are not just for the sake of his current situation but also for future prosperity.\n",
            "\n",
            "2. May Astrology grant Mr Ranjan, a Lord Shiva devotee, the opportunity to spend Monday with his family and loved ones. He is truly blessed as he has made sacrifices for both his future and current life.\n",
            "\n",
            "3. Can you suggest any actions on Monday to ensure a good day for Mr Ranjan, an observant of Lord Shiva, from an Astrology perspective?\n",
            "\n",
            "4. According to astrology, Mr Ranjan, a Lord Shiva devotee, wishes you all merry on Monday. Your sacrifices have been fruitful for both his future and personal growth.\n",
            "\n",
            "5. Astrology: Astrologer Ranjan, who is devoted to Lord Shiva said: \"It's going to be a good day and I hope you have... more sacrificed for your future.\n",
            "\n"
          ]
        }
      ]
    },
    {
      "cell_type": "code",
      "source": [
        "print(out_put[random.randint(0, len(out_put)-1)])"
      ],
      "metadata": {
        "colab": {
          "base_uri": "https://localhost:8080/"
        },
        "id": "78eeCIF26R-y",
        "outputId": "55748262-4127-4da1-f362-a9d8ab066572"
      },
      "execution_count": null,
      "outputs": [
        {
          "output_type": "stream",
          "name": "stdout",
          "text": [
            "As a devotee of Lord Shiva, wish Mr Ranjan 'a good day in life' on Monday as your sacrifices are not just for the sake of his current situation but also for future prosperity.\n"
          ]
        }
      ]
    },
    {
      "cell_type": "markdown",
      "source": [
        "## Expect Abundance"
      ],
      "metadata": {
        "id": "N0GaASRd6xQw"
      }
    },
    {
      "cell_type": "code",
      "source": [
        "user_context = \"Suggest an action on Monday for Mr. Ranjan who is devotee of Lord Shiva has a positive day from Astrology standpoint\"\n",
        "text = \"Your money and your efforts are multiplying. Your like life is transforming as a result. Expect the next week to offer many opportunities for amplifying the things you already have.\"\n",
        "out_put = paraphrase(user_context,text)\n",
        "for i in range(len(out_put)):\n",
        "  print(f\"{i+1}. {out_put[i]}\")\n",
        "  print(\"\")"
      ],
      "metadata": {
        "colab": {
          "base_uri": "https://localhost:8080/"
        },
        "id": "tf8E0Asr6Efi",
        "outputId": "b2efa6a1-4f7f-4ab2-cb37-ebefbb5b3b48"
      },
      "execution_count": null,
      "outputs": [
        {
          "output_type": "stream",
          "name": "stdout",
          "text": [
            "1. According to Astrology, your life is changing due to the increase in money and efforts you are making. Therefore, it is wise to suggest something on Monday for Mr Ranjan who is a devotee of Lord Shiva.\n",
            "\n",
            "2. From an astrological standpoint, your life is changing as you multiply your money and efforts. Let us suggest something on Monday to ensure prosperity for Mr Ranjan, who worships Lord Shiva.\n",
            "\n",
            "3. The next week is expected to offer many opportunities for enhancing the abundance of resources in your life, according to astrology. May Lord Ranjan, a devotee of Shiva, have upcoming positive events on Monday.\n",
            "\n",
            "4. As per astrologer Ragnar, your efforts and finances are increasing at an unprecedented rate, and you're seeing significant changes in your life as he is the patron of Lord Shiva. May the next week bring plenty of time to enhance what you already have.\n",
            "\n",
            "5. Your avowed devotion to Lord Shiva is making it'very, very good'. Astrology: Monday sees you multiplying your wealth and your efforts... There are many opportunities for growth in the next week with these numbers flowing.\n",
            "\n"
          ]
        }
      ]
    },
    {
      "cell_type": "code",
      "source": [
        "print(out_put[random.randint(0, len(out_put)-1)])"
      ],
      "metadata": {
        "colab": {
          "base_uri": "https://localhost:8080/"
        },
        "id": "UqIksAjY6Sz8",
        "outputId": "3a63b338-a60f-41e8-b475-13117d3db625"
      },
      "execution_count": null,
      "outputs": [
        {
          "output_type": "stream",
          "name": "stdout",
          "text": [
            "According to Astrology, your life is changing due to the increase in money and efforts you are making. Therefore, it is wise to suggest something on Monday for Mr Ranjan who is a devotee of Lord Shiva.\n"
          ]
        }
      ]
    },
    {
      "cell_type": "markdown",
      "source": [
        "## Circle of Support"
      ],
      "metadata": {
        "id": "D_AyQUYn6yhh"
      }
    },
    {
      "cell_type": "code",
      "source": [
        "user_context = \"Suggest an action on Monday for Mr. Ranjan who is devotee of Lord Shiva has a positive day from Astrology standpoint\"\n",
        "text = \"You are being surrounded by love+support. more and more people are showing up to support you. Some of these people might be lovers, friends and some would-be supporter of your goals\"\n",
        "out_put = paraphrase(user_context,text)\n",
        "for i in range(len(out_put)):\n",
        "  print(f\"{i+1}. {out_put[i]}\")\n",
        "  print(\"\")"
      ],
      "metadata": {
        "colab": {
          "base_uri": "https://localhost:8080/"
        },
        "id": "7ywK6Goy6MvH",
        "outputId": "1ddf5392-efcb-4755-f954-3888b13e975f"
      },
      "execution_count": null,
      "outputs": [
        {
          "output_type": "stream",
          "name": "stdout",
          "text": [
            "1. Astrologer Ranjan believes that you are being surrounded by love and support from all directions on Monday, including those who may be friends or just interested in helping you.\n",
            "\n",
            "2. As per Astrology, you are surrounded by love and support from all directions on Monday. May Mr Ranjan, a devotee of Lord Shiva, have an amazing day and find ways to make it as positive as possible with those around you, whether they are lovers, friends, or anyone who could help you in the future.\n",
            "\n",
            "3. On Monday, Mr Ranjan, an astrologer and devotee of Lord Shiva, would like to wish him 'a good day' from the perspective of astrology. What actions can he take to make this day as supportive as possible, considering there may be many individuals present such as friends, lovers or anyone who might be interested in helping you achieve your objectives?\n",
            "\n",
            "4. According to astrology, you are being welcomed by more and more individuals on Monday. This can help you achieve your aspirations as someone who is deeply committed to Lord Shiva has been inspired to seek solace in this world.\n",
            "\n",
            "5. From a astrological standpoint, you are experiencing an abundance of love and support from all angles. It could be helpful for Mr Ranjan to make this Monday – it might be beneficial for his spiritual journey as well.\n",
            "\n"
          ]
        }
      ]
    },
    {
      "cell_type": "code",
      "source": [
        "print(out_put[random.randint(0, len(out_put)-1)])"
      ],
      "metadata": {
        "colab": {
          "base_uri": "https://localhost:8080/"
        },
        "id": "Csy-tn6O6TnV",
        "outputId": "fd66b77c-5cfb-4d8c-cc88-18662e553c3e"
      },
      "execution_count": null,
      "outputs": [
        {
          "output_type": "stream",
          "name": "stdout",
          "text": [
            "As per Astrology, you are surrounded by love and support from all directions on Monday. May Mr Ranjan, a devotee of Lord Shiva, have an amazing day and find ways to make it as positive as possible with those around you, whether they are lovers, friends, or anyone who could help you in the future.\n"
          ]
        }
      ]
    },
    {
      "cell_type": "markdown",
      "source": [
        "## Courageous Leap of Faith"
      ],
      "metadata": {
        "id": "iCyWnc5I6zWU"
      }
    },
    {
      "cell_type": "code",
      "source": [
        "user_context = \"Suggest an action on Monday for Mr. Ranjan who is devotee of Lord Shiva has a positive day from Astrology standpoint\"\n",
        "text = \"Don't be afraid to make new decisions and do things you have never done before. Take leaps into the unknown realm, not knowing where you'll land trusting the good favor of the divine will break any fall.\"\n",
        "out_put = paraphrase(user_context,text)\n",
        "for i in range(len(out_put)):\n",
        "  print(f\"{i+1}. {out_put[i]}\")\n",
        "  print(\"\")"
      ],
      "metadata": {
        "colab": {
          "base_uri": "https://localhost:8080/"
        },
        "id": "Gr87fgVK6Mim",
        "outputId": "61c9d80a-80f3-4ef3-db22-92bd30731f41"
      },
      "execution_count": null,
      "outputs": [
        {
          "output_type": "stream",
          "name": "stdout",
          "text": [
            "1. From astrology's perspective, Monday is the ideal time for Mr Ranjan, a devotee of Lord Shiva, to make new decisions and undertake uncharted journeys with the help of the divine.\n",
            "\n",
            "2. As per astrology, Mr Ranjan wishes him a good Monday as he is devoted to Lord Shiva and encourages new decision-makers to take risks and trust in the divine will.\n",
            "\n",
            "3. Let Astrology minister to you on Monday, Mr Ranjan.\n",
            "\n",
            "4. According to Astrology, Mr Ranjan wishes him a \"Bring It On\" Monday and refrains from making bold new decisions or undertaking any unthinkable actions.\n",
            "\n",
            "5. Astrology advises Mr Ranjan to take a proactive approach on Monday and not to make any new decisions. He encourages individuals to explore the unknown, knowing that the divine will will dispel any fears they may have, as he is devoted devotee of Lord Shiva.\n",
            "\n"
          ]
        }
      ]
    },
    {
      "cell_type": "code",
      "source": [
        "print(out_put[random.randint(0, len(out_put)-1)])"
      ],
      "metadata": {
        "colab": {
          "base_uri": "https://localhost:8080/"
        },
        "id": "EsBz95WO54HB",
        "outputId": "79d76adc-13b0-4ec6-c79a-5a24759be024"
      },
      "execution_count": null,
      "outputs": [
        {
          "output_type": "stream",
          "name": "stdout",
          "text": [
            "As per astrology, Mr Ranjan wishes him a good Monday as he is devoted to Lord Shiva and encourages new decision-makers to take risks and trust in the divine will.\n"
          ]
        }
      ]
    },
    {
      "cell_type": "markdown",
      "source": [
        "## ********************************************************* OLD TESTS *********************************************************"
      ],
      "metadata": {
        "id": "5jvT5V3a9Lrh"
      }
    },
    {
      "cell_type": "markdown",
      "source": [
        "## Model Testing without personalization."
      ],
      "metadata": {
        "id": "hnGAM0J38iJh"
      }
    },
    {
      "cell_type": "code",
      "source": [
        "text = \"You should expect to get break through on toughest Problem you may be working on.  Just give that Final Push.\"\n",
        "out_put = paraphrase(text)\n",
        "for i in range(len(out_put)):\n",
        "  print(f\"{i+1}. {out_put[i]}\")\n",
        "  print(\"\")"
      ],
      "metadata": {
        "id": "C5oPx41Wj6JD",
        "outputId": "0f798979-671e-4f09-b2bc-50c4d18b781f",
        "colab": {
          "base_uri": "https://localhost:8080/"
        }
      },
      "execution_count": null,
      "outputs": [
        {
          "output_type": "stream",
          "name": "stdout",
          "text": [
            "1. The toughest problem you may be working on will likely see a breakthrough. Just give it the final push.\n",
            "\n",
            "2. It's likely that you'll be able to break through the most challenging problem you are working on by giving it a final push.\n",
            "\n",
            "3. Expect a breakthrough in the most challenging problem you may face while working on it, and make sure to give it thrall before finishing.\n",
            "\n",
            "4. Getting a break on the most challenging problem you may be dealing with is possible by giving it the final push.\n",
            "\n",
            "5. You can anticipate a breakthrough in the most challenging problem you may face while working on it. Just give it ONE last push.\n",
            "\n"
          ]
        }
      ]
    },
    {
      "cell_type": "code",
      "source": [
        "text = \"Even if you approach someone with utmost politeness and professionalism, somethimes people may not give their best reaction. Don't worry just politely keep the door open..and you can revisit on better day.\"\n",
        "out_put = paraphrase(text)\n",
        "for i in range(len(out_put)):\n",
        "  print(f\"{i+1}. {out_put[i]}\")\n",
        "  print(\"\")"
      ],
      "metadata": {
        "colab": {
          "base_uri": "https://localhost:8080/"
        },
        "outputId": "f84587a4-0c8c-4854-8f82-01f0814d7b30",
        "id": "_XBKXjU6xVJG"
      },
      "execution_count": null,
      "outputs": [
        {
          "output_type": "stream",
          "name": "stdout",
          "text": [
            "1. Although you may be able to approach someone with deference and professionalism, some people may not respond as quickly. Don't worry, simply keep the door open and hope for a better day.\n",
            "\n",
            "2. Even if you approach someone with great politeness and professionalism, some people may not respond quickly. Don't be concerned; simply keep the door open and hope for a better day.\n",
            "\n",
            "3. Some people may not respond well when you approach them in a courteous and professional manner. Don't be afraid to keep the door open and return later if you have more time.\n",
            "\n",
            "4. Despite being courteous and professional, some people may not respond quickly. Don't be concerned about maintaining a polite door and coming back later.\n",
            "\n",
            "5. It's possible that even if you approach someone with their best attitude and professionalism, they may not respond as quickly. Don't be afraid to keep the door open and return later - it'll make things easier for you.\n",
            "\n"
          ]
        }
      ]
    },
    {
      "cell_type": "code",
      "source": [
        "text = \"Suggest an action on Monday for Mr Ranjan who is devotee of Lord Shiva has a positive day from Astrology standpoint\"\n",
        "# text = \"This is best day to plan important event e.g. Key Meeting with Customer / Boss.\"\n",
        "out_put = paraphrase(text)\n",
        "for i in range(len(out_put)):\n",
        "  print(f\"{i+1}. {out_put[i]}\")\n",
        "  print(\"\")"
      ],
      "metadata": {
        "colab": {
          "base_uri": "https://localhost:8080/"
        },
        "id": "t7xlBEckCCar",
        "outputId": "f60d8967-a7d0-407a-fad0-efbd8dd18d29"
      },
      "execution_count": null,
      "outputs": [
        {
          "output_type": "stream",
          "name": "stdout",
          "text": [
            "1. This is the most favorable day to plan an important event, such as a key meeting with customers or bosses.\n",
            "\n",
            "2. The most advantageous day is now for preparing crucial events, like the Key Meeting with customers or bosses.\n",
            "\n",
            "3. It's the most suitable day to plan an important event, such as a key meeting with / for customer or their boss.\n",
            "\n",
            "4. The day is ideal for organizing a significant occasion, such as preparing for KEY meetings with customers or bosses.\n",
            "\n",
            "5. Today presents the perfect opportunity to plan an important event, like a key meeting with s/he.\n",
            "\n"
          ]
        }
      ]
    },
    {
      "cell_type": "markdown",
      "source": [
        "## Model Testing with personalization."
      ],
      "metadata": {
        "id": "4mVL6mXx8u_p"
      }
    },
    {
      "cell_type": "code",
      "source": [
        "user_context = \"Raj, a 50-year-old male user from the USA\"\n",
        "text = \"Sometimes it feels like things are just not going your way. Don't worry keep working and smiling.\"\n",
        "out_put = paraphrase(user_context,text)\n",
        "for i in range(len(out_put)):\n",
        "  print(f\"{i+1}. {out_put[i]}\")\n",
        "  print(\"\")"
      ],
      "metadata": {
        "colab": {
          "base_uri": "https://localhost:8080/"
        },
        "outputId": "13acabf1-0ef8-49d5-86ee-6f6be24fc9af",
        "id": "R_T8OSdexVtl"
      },
      "execution_count": null,
      "outputs": [
        {
          "output_type": "stream",
          "name": "stdout",
          "text": [
            "1. Raj, a 50-year-old male user from the USA | Find comfort in working hard and smiling when things seem to be going wrong.\n",
            "\n",
            "2. Despite the challenges, Raj, a 50-year-old male user from the USA, is determined to keep going and stay optimistic.\n",
            "\n",
            "3. If you're feeling hopeless at the moment, Raj, a 50-year-old male user from America, can keep working and smiling.\n",
            "\n",
            "4. Raj, a man in his 50s from the USA who struggles with depression | Find strength and courage to overcome the challenges.\n",
            "\n",
            "5. When faced with adversity, Raj is essentially an unlucky man from the USA. So, despite this, it's important to keep up the good work and always smiling.\n",
            "\n"
          ]
        }
      ]
    },
    {
      "cell_type": "code",
      "source": [
        "user_context = \"50-year-old male user from the USA\"\n",
        "text = \"This is best day to plan important event e.g. Key Meeting with Customer / Boss.\"\n",
        "out_put = paraphrase(user_context,text)\n",
        "for i in range(len(out_put)):\n",
        "  print(f\"{i+1}. {out_put[i]}\")\n",
        "  print(\"\")"
      ],
      "metadata": {
        "colab": {
          "base_uri": "https://localhost:8080/"
        },
        "id": "5Kc0bqtWxlf1",
        "outputId": "6567e4aa-6e1a-4fa1-c00e-2c5766df8b6a"
      },
      "execution_count": null,
      "outputs": [
        {
          "output_type": "stream",
          "name": "stdout",
          "text": [
            "1. A key meeting with customer or boss, involving a 50-year-old male user from the USA, is best planned for on this day.\n",
            "\n",
            "2. The ideal day is reserved for planning an important event, such as a key meeting with customers or bosses, where the individual is typically 50 years old and belongs to the USA.\n",
            "\n",
            "3. The day is ideal for organizing a crucial meeting with customers or bosses, as it involves bringing along dozens of 50-year-old male users from the USA.\n",
            "\n",
            "4. It's the perfect day to organize an important meeting with a customer or boss, particularly if you're accompanied by dozens of 50-year-old male users from the USA.\n",
            "\n",
            "5. This is the perfect day to plan a crucial event, such as arranging 'key meetings' with customers or bosses for 50,000 male users from the USA.\n",
            "\n"
          ]
        }
      ]
    },
    {
      "cell_type": "code",
      "source": [
        "user_context = \"Suggest an action on Monday for Mr Ranjan who is devotee of Lord Shiva has a positive day from Astrology standpoint\"\n",
        "text = \"This is best day to plan important event e.g. Key Meeting with Customer / Boss.\"\n",
        "out_put = paraphrase(user_context,text)\n",
        "for i in range(len(out_put)):\n",
        "  print(f\"{i+1}. {out_put[i]}\")\n",
        "  print(\"\")"
      ],
      "metadata": {
        "colab": {
          "base_uri": "https://localhost:8080/"
        },
        "id": "ufMtU523z4cH",
        "outputId": "e0987b73-0e40-4bef-e7f3-31533623927f"
      },
      "execution_count": null,
      "outputs": [
        {
          "output_type": "stream",
          "name": "stderr",
          "text": [
            "/usr/local/lib/python3.10/dist-packages/transformers/generation/configuration_utils.py:381: UserWarning: `do_sample` is set to `False`. However, `temperature` is set to `0.7` -- this flag is only used in sample-based generation modes. You should set `do_sample=True` or unset `temperature`.\n",
            "  warnings.warn(\n"
          ]
        },
        {
          "output_type": "stream",
          "name": "stdout",
          "text": [
            "1. According to Astrology, Monday is the ideal day to plan a crucial meeting with your customer or superior. What actions can you take on behalf of Lord Shiva's devotee?\n",
            "\n",
            "2. As a devotee of Lord Shiva, it is believed that Monday is the most favorable day to plan important meetings with customers or superiors from an astrological perspective.\n",
            "\n",
            "3. To ensure that Mr Ranjan, a devotee of Lord Shiva, has benefited from his Astrology-based day, Monday is the ideal day to plan important meetings with customers or superiors.\n",
            "\n",
            "4. On Monday, I propose some actions for Mr Ranjan, who is a devotee of Lord Shiva and believes that he will have astrologically favorable days when arranging important meetings with customers or superiors.\n",
            "\n",
            "5. From an astrological standpoint, Monday is the ideal day for planning important events such as a key meeting with customers or bosses. What actions can be taken to ensure that Mr Ranjan, presiding over Lord Shiva's followers, has wished everyone he meets - positive or negative?\n",
            "\n"
          ]
        }
      ]
    },
    {
      "cell_type": "code",
      "source": [
        "user_context = \"Suggest an action on Monday for Mr Ranjan who is devotee of Lord Shiva has a positive day from Astrology standpoint\"\n",
        "text = \"This is best day to plan important event e.g. Key Meeting with Customer / Boss.\"\n",
        "out_put = paraphrase(user_context,text)\n",
        "for i in range(len(out_put)):\n",
        "  print(f\"{i+1}. {out_put[i]}\")\n",
        "  print(\"\")"
      ],
      "metadata": {
        "colab": {
          "base_uri": "https://localhost:8080/"
        },
        "id": "M9EfccDu879L",
        "outputId": "41d6e4d3-d0c7-4b02-8817-9a4330d23c2d"
      },
      "execution_count": null,
      "outputs": [
        {
          "output_type": "stream",
          "name": "stdout",
          "text": [
            "1. According to Astrology, Monday is the ideal day to plan a crucial meeting with your customer or superior. What actions can you take on behalf of Lord Shiva's devotee?\n",
            "\n",
            "2. As a devotee of Lord Shiva, it is believed that Monday is the most favorable day to plan important meetings with customers or superiors from an astrological perspective.\n",
            "\n",
            "3. To ensure that Mr Ranjan, a devotee of Lord Shiva, has benefited from his Astrology-based day, Monday is the ideal day to plan important meetings with customers or superiors.\n",
            "\n",
            "4. On Monday, I propose some actions for Mr Ranjan, who is a devotee of Lord Shiva and believes that he will have astrologically favorable days when arranging important meetings with customers or superiors.\n",
            "\n",
            "5. From an astrological standpoint, Monday is the ideal day for planning important events such as a key meeting with customers or bosses. What actions can be taken to ensure that Mr Ranjan, presiding over Lord Shiva's followers, has wished everyone he meets - positive or negative?\n",
            "\n"
          ]
        }
      ]
    },
    {
      "cell_type": "code",
      "source": [
        "# !pip uninstall transformers\n",
        "# !pip install sentencepiece"
      ],
      "metadata": {
        "id": "yMSMd2bGr3WQ"
      },
      "execution_count": null,
      "outputs": []
    },
    {
      "cell_type": "code",
      "source": [
        "# !pip install --no-cache-dir transformers sentencepiece"
      ],
      "metadata": {
        "id": "FNP6x-FPtBRs"
      },
      "execution_count": null,
      "outputs": []
    },
    {
      "cell_type": "code",
      "source": [
        "# Uninstalled transformers\n",
        "# Installed transformers sentencepiece like this : !pip install --no-cache-dir transformers sentencepiece\n",
        "# Use_fast= False like this: tokenizer = AutoTokenizer.from_pretrained(“XXXXX”, use_fast=False)"
      ],
      "metadata": {
        "id": "qmEG2QBYsxG0"
      },
      "execution_count": null,
      "outputs": []
    },
    {
      "cell_type": "code",
      "source": [
        "# !pip install accelerate"
      ],
      "metadata": {
        "id": "Yd1FimH1ZnQf"
      },
      "execution_count": null,
      "outputs": []
    }
  ]
}